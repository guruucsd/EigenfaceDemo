{
 "cells": [
  {
   "cell_type": "code",
   "execution_count": 1,
   "metadata": {
    "collapsed": false
   },
   "outputs": [
    {
     "name": "stderr",
     "output_type": "stream",
     "text": [
      ":0: FutureWarning: IPython widgets are experimental and may change in the future.\n"
     ]
    }
   ],
   "source": [
    "%load_ext autoreload\n",
    "%autoreload 2\n",
    "%matplotlib inline\n",
    "\n",
    "from numpy import *\n",
    "from IPython.html.widgets import *\n",
    "from IPython.display import display\n",
    "import matplotlib.pyplot as plt\n",
    "from IPython.core.display import clear_output"
   ]
  },
  {
   "cell_type": "markdown",
   "metadata": {},
   "source": [
    "# Gini coefficient\n",
    "\n",
    "Gini coefficient is a measure of statistical dispersion.  For the Kaggle competition, the **normalized Gini coefficient** is used as a measure of comparing how much the *ordering* of the model prediction matches the actual output.  The magnitudes of the prediction do matter, but not in the same way they do in regular regressions.\n",
    "\n",
    "The Gini coefficient is calculated as follows.  As an example, let's say we have the following `target` values and model `output` (predictions):"
   ]
  },
  {
   "cell_type": "code",
   "execution_count": 2,
   "metadata": {
    "collapsed": true
   },
   "outputs": [],
   "source": [
    "target=array([1,4,8,5])\n",
    "output=array([1,8,4,5])"
   ]
  },
  {
   "cell_type": "markdown",
   "metadata": {},
   "source": [
    "In the above example, the prediction `output` is not perfect, because we have the `4` and `8` switched.  Regardless, we first sort the `output` from the largest to the smallest and calculate the sort ordering:"
   ]
  },
  {
   "cell_type": "code",
   "execution_count": 3,
   "metadata": {
    "collapsed": false
   },
   "outputs": [
    {
     "name": "stdout",
     "output_type": "stream",
     "text": [
      "[1 3 2 0]\n"
     ]
    }
   ],
   "source": [
    "sort_index=argsort(-output)  # Because we want to sort from largest to smallest\n",
    "print(sort_index)"
   ]
  },
  {
   "cell_type": "markdown",
   "metadata": {},
   "source": [
    "Next, we sort the target values using *this* sorting order.  Since the predicted order was incorrect, the target values are not going to be sorted by largest to the smallest."
   ]
  },
  {
   "cell_type": "code",
   "execution_count": 4,
   "metadata": {
    "collapsed": false
   },
   "outputs": [
    {
     "name": "stdout",
     "output_type": "stream",
     "text": [
      "[4 5 8 1]\n"
     ]
    }
   ],
   "source": [
    "sorted_target=target[sort_index]\n",
    "print(sorted_target)"
   ]
  },
  {
   "cell_type": "markdown",
   "metadata": {},
   "source": [
    "Then we look at the cumulative sum, and divide by the total sum to get the proportion of the cumulative sum."
   ]
  },
  {
   "cell_type": "code",
   "execution_count": 5,
   "metadata": {
    "collapsed": false
   },
   "outputs": [
    {
     "name": "stdout",
     "output_type": "stream",
     "text": [
      "[ 4  9 17 18]\n",
      "[ 0.22222222  0.5         0.94444444  1.        ]\n"
     ]
    }
   ],
   "source": [
    "cumsum_target=cumsum(sorted_target)\n",
    "print(cumsum_target)\n",
    "cumsum_target_ratio=cumsum_target / asarray(target.sum(), dtype=float)  # Convert to float type\n",
    "print(cumsum_target_ratio)"
   ]
  },
  {
   "cell_type": "markdown",
   "metadata": {},
   "source": [
    "Let's plot `cumsum_target_ratio`:"
   ]
  },
  {
   "cell_type": "code",
   "execution_count": 21,
   "metadata": {
    "collapsed": false
   },
   "outputs": [
    {
     "data": {
      "text/plain": [
       "<matplotlib.text.Text at 0x7f6ad934e990>"
      ]
     },
     "execution_count": 21,
     "metadata": {},
     "output_type": "execute_result"
    },
    {
     "data": {
      "image/png": "[encoded data removed]",
      "text/plain": [
       "<matplotlib.figure.Figure at 0x7f6ad8f6aed0>"
      ]
     },
     "metadata": {},
     "output_type": "display_data"
    }
   ],
   "source": [
    "xs=linspace(0, 1, len(cumsum_target_ratio) + 1)\n",
    "plt.plot(xs, c_[xs, r_[0, cumsum_target_ratio]])\n",
    "plt.gca().set_aspect('equal')\n",
    "plt.gca().set_xlabel(r'% from left of array')\n",
    "plt.gca().set_ylabel(r'% cumsum')"
   ]
  },
  {
   "cell_type": "markdown",
   "metadata": {},
   "source": [
    "`cumsum_target_ratio` was plotted in green, whereas The line for $y = x$ was also plotted in blue.  This line represents the **random model prediction**.  If we had a large array of numbers, sorted it *randomly* and looked at the cumulative sum from the left, we would expect the cumulative sum to be about 10% of the total when we look at the number 10% from the left.  In general, we would expect $x$ % of the cumulative sum total for the array element that is $x$ % from the left of the array.\n",
    "\n",
    "Finally, the **Gini coefficient** is determined to be the \"area\" between the green and the blue lines: green values minus the blue line values.  (This can also be negative in some places, as we see above; hence the quotation marks.)"
   ]
  },
  {
   "cell_type": "code",
   "execution_count": 22,
   "metadata": {
    "collapsed": false
   },
   "outputs": [
    {
     "name": "stdout",
     "output_type": "stream",
     "text": [
      "0.166666666667\n"
     ]
    }
   ],
   "source": [
    "gini_coeff=(r_[0, cumsum_target_ratio] - xs).sum()\n",
    "print(gini_coeff)"
   ]
  },
  {
   "cell_type": "markdown",
   "metadata": {},
   "source": [
    "For convenience, we collect the above in a function."
   ]
  },
  {
   "cell_type": "code",
   "execution_count": 33,
   "metadata": {
    "collapsed": false
   },
   "outputs": [
    {
     "name": "stdout",
     "output_type": "stream",
     "text": [
      "0.166666666667\n"
     ]
    }
   ],
   "source": [
    "def gini_coeff(target, output):\n",
    "    sort_index=argsort(-output)  # Because we want to sort from largest to smallest\n",
    "    sorted_target=target[sort_index]\n",
    "    cumsum_target=cumsum(sorted_target)\n",
    "    cumsum_target_ratio=cumsum_target / asarray(target.sum(), dtype=float)  # Convert to float type\n",
    "    xs = linspace(0, 1, len(cumsum_target_ratio) + 1)\n",
    "    return (r_[0, cumsum_target_ratio] - xs).sum()\n",
    "\n",
    "print(gini_coeff(target, output))"
   ]
  },
  {
   "cell_type": "markdown",
   "metadata": {},
   "source": [
    "Note that we can also calculate the Gini coefficient of two same vectors.  In this case, it returns the maximum value that can be achievable by any sorting of the same set of numbers:"
   ]
  },
  {
   "cell_type": "code",
   "execution_count": 24,
   "metadata": {
    "collapsed": false
   },
   "outputs": [
    {
     "name": "stdout",
     "output_type": "stream",
     "text": [
      "0.611111111111\n"
     ]
    }
   ],
   "source": [
    "print(gini_coeff(target, target))"
   ]
  },
  {
   "cell_type": "markdown",
   "metadata": {},
   "source": [
    "Finally, the **normalized Gini coefficient** is defined as the ratio of Gini coefficient between the target and the prediction with respect to the maximum value achievable from the target values themselves:"
   ]
  },
  {
   "cell_type": "code",
   "execution_count": 25,
   "metadata": {
    "collapsed": false
   },
   "outputs": [
    {
     "name": "stdout",
     "output_type": "stream",
     "text": [
      "0.272727272727\n"
     ]
    }
   ],
   "source": [
    "def normalized_gini(target, output):\n",
    "    return gini_coeff(target, output) / gini_coeff(target, target)\n",
    "\n",
    "print(normalized_gini(target, output))"
   ]
  },
  {
   "cell_type": "markdown",
   "metadata": {},
   "source": [
    "The **normalized Gini coefficient** has the maximum of 1, when the ordering is correct.  "
   ]
  },
  {
   "cell_type": "code",
   "execution_count": 27,
   "metadata": {
    "collapsed": false
   },
   "outputs": [
    {
     "name": "stdout",
     "output_type": "stream",
     "text": [
      "1.0\n"
     ]
    }
   ],
   "source": [
    "print(normalized_gini(target, target))"
   ]
  },
  {
   "cell_type": "markdown",
   "metadata": {},
   "source": [
    "The model prediction is considered better the closer it is to 1.  It appears that this number can become negative, though, if the prediction is very bad (the opposite ordering, for example):"
   ]
  },
  {
   "cell_type": "code",
   "execution_count": 29,
   "metadata": {
    "collapsed": false
   },
   "outputs": [
    {
     "name": "stdout",
     "output_type": "stream",
     "text": [
      "-0.454545454545\n"
     ]
    }
   ],
   "source": [
    "target=array([1,4,8,5])\n",
    "output2=array([5,8,4,1])\n",
    "\n",
    "print(normalized_gini(target, output2))"
   ]
  },
  {
   "cell_type": "markdown",
   "metadata": {},
   "source": [
    "This measure is insensitve to the magnitudes:"
   ]
  },
  {
   "cell_type": "code",
   "execution_count": 39,
   "metadata": {
    "collapsed": false
   },
   "outputs": [
    {
     "name": "stdout",
     "output_type": "stream",
     "text": [
      "0.272727272727\n",
      "0.272727272727\n"
     ]
    }
   ],
   "source": [
    "target=array([1,4,8,5])\n",
    "output3=array([10,80,40,50])\n",
    "output4=array([0,3,1,2])\n",
    "\n",
    "print(normalized_gini(target, output3))\n",
    "print(normalized_gini(target, output4))"
   ]
  },
  {
   "cell_type": "markdown",
   "metadata": {},
   "source": [
    "However, because we are sorting from the largest to the smallest number (and looking at the ratio of the largest to the total), it is **more important to predict the samples with large numbers**.\n",
    "\n",
    "To wit, here're two sets of predictions:"
   ]
  },
  {
   "cell_type": "code",
   "execution_count": 53,
   "metadata": {
    "collapsed": false
   },
   "outputs": [
    {
     "name": "stdout",
     "output_type": "stream",
     "text": [
      "output_small RMSE: 1.000000\n",
      "output_large RMSE: 1.000000\n",
      "output_small NGini: 0.500000\n",
      "output_large NGini: 0.300000\n"
     ]
    }
   ],
   "source": [
    "target_large=array([1,2,1,2,1,2,1,2,1,2,9])\n",
    "output_small=array([2,1,2,1,2,1,2,1,2,1,8])  # All 1, 2 s are wrong, but got the largest number right\n",
    "output_large=array([1,2,1,2,1,2,1,2,1,6,2])  # Got most 1, 2 s right, but missed the largest number\n",
    "\n",
    "print('output_small RMSE: %f' % sqrt((target_large-output_small)**2).mean())\n",
    "print('output_large RMSE: %f' % sqrt((target_large-output_large)**2).mean())\n",
    "\n",
    "print('output_small normalized Gini: %f' % normalized_gini(target_large, output_small))\n",
    "print('output_large normalized Gini: %f' % normalized_gini(target_large, output_large))"
   ]
  },
  {
   "cell_type": "markdown",
   "metadata": {},
   "source": [
    "There's a much larger penality to getting the largest quantity wrong for the normalized Gini (even though the root-mean squared errors are equal in both cases)."
   ]
  },
  {
   "cell_type": "code",
   "execution_count": null,
   "metadata": {
    "collapsed": true
   },
   "outputs": [],
   "source": []
  }
 ],
 "metadata": {
  "kernelspec": {
   "display_name": "Python 2",
   "language": "python",
   "name": "python2"
  },
  "language_info": {
   "codemirror_mode": {
    "name": "ipython",
    "version": 2
   },
   "file_extension": ".py",
   "mimetype": "text/x-python",
   "name": "python",
   "nbconvert_exporter": "python",
   "pygments_lexer": "ipython2",
   "version": "2.7.6"
  }
 },
 "nbformat": 4,
 "nbformat_minor": 0
}
