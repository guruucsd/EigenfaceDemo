{
 "cells": [
  {
   "cell_type": "code",
   "execution_count": 1,
   "metadata": {
    "collapsed": false,
    "slideshow": {
     "slide_type": "skip"
    }
   },
   "outputs": [
    {
     "name": "stderr",
     "output_type": "stream",
     "text": [
      ":0: FutureWarning: IPython widgets are experimental and may change in the future.\n"
     ]
    }
   ],
   "source": [
    "%load_ext autoreload\n",
    "%autoreload 2\n",
    "%matplotlib inline\n",
    "\n",
    "from numpy import *\n",
    "from IPython.html.widgets import *\n",
    "from IPython.display import display\n",
    "import matplotlib.pyplot as plt\n",
    "from IPython.core.display import clear_output"
   ]
  },
  {
   "cell_type": "markdown",
   "metadata": {
    "slideshow": {
     "slide_type": "slide"
    }
   },
   "source": [
    "# Perceptron Demo\n",
    "\n",
    "In this notebook, we will go through how to train a perceptron for binary classification problems.\n",
    "\n",
    "<img src=\"files/images/Perceptron/classification.png\" style=\"margin:auto; width: 330px;\"/>"
   ]
  },
  {
   "cell_type": "markdown",
   "metadata": {
    "slideshow": {
     "slide_type": "slide"
    }
   },
   "source": [
    "## What is a perceptron?\n",
    "\n",
    "Perceptron is a artificial neural network whose learning was invented by Frak Rosenblatt in 1957.  \n",
    "\n",
    "<img src=\"files/images/Perceptron/rosenblatt.jpg\" style=\"margin:auto; width: 225px;\"/>\n",
    "\n",
    "According to wikipedia, \"In a 1958 press conference organized by the US Navy, Rosenblatt made statements about the perceptron that caused a heated controversy among the fledgling AI community; based on Rosenblatt's statements, The New York Times reported the perceptron to be \"the embryo of an electronic computer that [the Navy] expects will be able to walk, talk, see, write, reproduce itself and be conscious of its existence.\""
   ]
  },
  {
   "cell_type": "markdown",
   "metadata": {
    "slideshow": {
     "slide_type": "subslide"
    }
   },
   "source": [
    "A perceptron is a single-layer, linear classifier:\n",
    "\n",
    "<img src=\"files/images/Perceptron/diagram.png\" style=\"margin:auto; width: 817px;\"/>\n",
    "\n",
    "Although it is very simple (and too simple for many tasks), it forms the basis for more sophisticated networks and algorithms (backpropagation)."
   ]
  },
  {
   "cell_type": "markdown",
   "metadata": {
    "slideshow": {
     "slide_type": "subslide"
    }
   },
   "source": [
    "<img src=\"files/images/Perceptron/diagram.png\" style=\"margin:auto; width: 817px;\"/>\n",
    "\n",
    "A perceptron has $P$ input units, one output unit and $P+1$ weights (parameters) $w_n$.  For a particular input (a $P$-dimensional vector ${\\bf x}$), the perceptron outputs\n",
    "\n",
    "$$ t = sign( a ) = sign( {\\bf x} {\\bf w}^\\intercal  + {\\bf w}_0 ) $$\n",
    "\n",
    "$a$ is the *activation* of the perceptrion. The \"sign\" function returns $+1$ for anything greater than zero and $-1$ for less than zero."
   ]
  },
  {
   "cell_type": "markdown",
   "metadata": {
    "slideshow": {
     "slide_type": "fragment"
    }
   },
   "source": [
    "${\\bf w}_0$ is called the \"bias weight\".  For convenience, we often change the input vector ${\\bf x} = (x_1, x_2, ...)$ to have $1$ at the end (${\\bf x}' = (x_1, x_2, ..., x_p, 1)$), so that we can express the activation as simply $a = {\\bf x}' {\\bf w}^\\intercal$."
   ]
  },
  {
   "cell_type": "markdown",
   "metadata": {
    "slideshow": {
     "slide_type": "slide"
    }
   },
   "source": [
    "## How is perceptron trained?\n",
    "\n",
    "Before we can discuss training, we need to clarify what we want to train for!  For binary classification problem, for each sample ${\\bf x}_i$, we have a corresponding *label* $y_i \\in \\{ 1, -1 \\}$.  $1$ corresponds to one class (red points, for example), and $-1$ corresponds to the other class (blue points).  \n",
    "\n",
    "<img src=\"files/images/Perceptron/classification.png\" style=\"margin:auto; width: 330px;\"/>\n",
    "\n",
    "By training, we mean that we want to find ${\\bf w}$ such that for all $i$, $y_i = sign({\\bf x}_i' {\\bf w}^\\intercal)$."
   ]
  },
  {
   "cell_type": "markdown",
   "metadata": {
    "slideshow": {
     "slide_type": "subslide"
    }
   },
   "source": [
    "In other words, we want to minimize the (0/1) *loss function*\n",
    "\n",
    "$$ J_{0/1}({\\bf w}) = \\frac{1}{N} \\sum_{i=1}^{N} (y_i == sign({\\bf x}_i' {\\bf w}^\\intercal))$$\n",
    "\n",
    "This is an optimization problem.  Unfortunately, this particular loss function is practically impossible to solve, because the gradient is flat everywhere!\n",
    "\n",
    "<img src=\"files/images/Perceptron/0-1loss.png\" style=\"margin:auto; width: 330px;\"/>"
   ]
  },
  {
   "cell_type": "markdown",
   "metadata": {
    "slideshow": {
     "slide_type": "subslide"
    }
   },
   "source": [
    "Instead, a perceptron learning rule minimizes the *perceptron criterion*:\n",
    "\n",
    "$$ J({\\bf w}) = \\frac{1}{N} \\sum_{i=1}^{N} \\max (0, - y_i a_i)$$\n",
    "\n",
    " * If the prediction was correct - say, $y_i = 1$ and $a = 0.8$, then $-y_i a_i < 0$, so $\\max(0, -y_i a_i) = 0$.  In other words, the loss is zero for correct examples.\n",
    " * If the prediction was wrong - say, $y_i = -1$ and $a = 0.8$, then the loss is *proportional* to $a_i$.  The penalty is very large when you predict very large $a_i$ and get it wrong!\n",
    "\n",
    "It's important to note that the loss function only cares about the examples that were classified wrong."
   ]
  },
  {
   "cell_type": "markdown",
   "metadata": {
    "slideshow": {
     "slide_type": "subslide"
    }
   },
   "source": [
    "So we can also rewrite the loss function as\n",
    "\n",
    "$$ J({\\bf w}) = \\sum_{i= \\textrm{Wrong samples}} - y_i a_i $$\n",
    "\n",
    "Now we can take the derivative with respect to ${\\bf w}$ and get something nicer:\n",
    "\n",
    "$$ \\frac{\\partial J_i({\\bf w})}{\\partial w_j} = -y_i x_{ij} \\quad \\textrm{For wrong sample } i$$\n",
    "\n",
    "<img src=\"files/images/Perceptron/perceptron_loss.png\" style=\"margin:auto; width: 330px;\"/>"
   ]
  },
  {
   "cell_type": "markdown",
   "metadata": {
    "slideshow": {
     "slide_type": "subslide"
    }
   },
   "source": [
    "And, using the stochastic gradient decent algorithm with the learning rate of $\\eta$, we get the perceptron weight update rule:\n",
    "\n",
    "$${\\bf w} \\leftarrow {\\bf w} + \\eta y_i {\\bf x}_i' $$\n",
    "\n",
    "... for all misclassified examples $i$.\n",
    "\n",
    "(Exercise: take out your papers and pencils and convince yourself of this.)"
   ]
  },
  {
   "cell_type": "markdown",
   "metadata": {
    "slideshow": {
     "slide_type": "slide"
    }
   },
   "source": [
    "# Training a perceptron\n",
    "\n",
    "Now that we know how to train a perceptron, let's generate some data `X` and binary labels `y` to test on! We'll use `sklearn.datasets` to make some test data.  Note that we want the targets `y` to be `{-1, 1}`."
   ]
  },
  {
   "cell_type": "code",
   "execution_count": 2,
   "metadata": {
    "collapsed": false,
    "slideshow": {
     "slide_type": "subslide"
    }
   },
   "outputs": [
    {
     "data": {
      "image/png": "[encoded data removed]",
      "text/plain": [
       "<matplotlib.figure.Figure at 0x107c6fd90>"
      ]
     },
     "metadata": {},
     "output_type": "display_data"
    }
   ],
   "source": [
    "from sklearn.datasets import make_blobs\n",
    "\n",
    "X = y = None # Global variables\n",
    "@interact\n",
    "def plot_blobs(n_samples=(10, 500),\n",
    "               center1_x=1.5,\n",
    "               center1_y=1.5,\n",
    "               center2_x=-1.5,\n",
    "               center2_y=-1.5):\n",
    "    centers=array([[center1_x, center1_y],[center2_x, center2_y]])\n",
    "    global X, y \n",
    "    X, y= make_blobs(n_samples=n_samples, n_features=2,\n",
    "                      centers=centers, cluster_std=1.0)\n",
    "    y = y*2 - 1  # To convert to {-1, 1}\n",
    "    \n",
    "    plt.scatter(X[:,0], X[:,1], c=y, edgecolor='none')\n",
    "    plt.xlim([-10,10]); plt.ylim([-10,10]); plt.grid()\n",
    "    plt.axes().set_aspect('equal')"
   ]
  },
  {
   "cell_type": "code",
   "execution_count": 8,
   "metadata": {
    "collapsed": true,
    "slideshow": {
     "slide_type": "skip"
    }
   },
   "outputs": [],
   "source": [
    "from sklearn.cross_validation import train_test_split\n",
    "\n",
    "# Plotting routine for perceptron training\n",
    "def predict(w, X):\n",
    "    \"\"\"Returns the predictions.\"\"\"\n",
    "    return sign(dot(c_[X, ones((X.shape[0], 1))], w))\n",
    "    \n",
    "def error01(w, X, y):\n",
    "    \"\"\"Calculates the mean 0/1 error.\"\"\"\n",
    "    return 1.0 - (predict(w, X) == y).mean()\n",
    "\n",
    "def perceptron_training(X,y,eta=0.1):\n",
    "    global w, errors\n",
    "    \n",
    "    # Split data to training and test\n",
    "    X_train, X_test, y_train, y_test = train_test_split(X, y, test_size=0.1)\n",
    "\n",
    "    # Plot the current predictions and the hyperplane\n",
    "    fig, axs = plt.subplots(1, 2, figsize=(10, 5))\n",
    "    axs[0].scatter(X_train[:,0], X_train[:,1], c=predict(w, X_train), edgecolor='none')\n",
    "    axs[0].set_xlim([-10,10]); axs[0].set_ylim([-10,10]); axs[0].grid()\n",
    "    axs[0].set_aspect('equal')\n",
    "    \n",
    "    # Draw the separating line\n",
    "    cw=-w[2]/(w[0]**2+w[1]**2)\n",
    "    ts=array([-100.0,100.0])\n",
    "    axs[0].plot(-w[1]*ts+w[0]*cw, w[0]*ts+w[1]*cw, linestyle='--', color='r')\n",
    "    axs[0].arrow(w[0]*cw,w[1]*cw, w[0], w[1], \n",
    "            head_width=0.5, head_length=0.5, fc='r', ec='r')    \n",
    "    \n",
    "    # Plot the classification errors\n",
    "    train_error, test_error = [error01(w, X_, y_) for X_, y_ in [[X_train, y_train], [X_test, y_test]]]\n",
    "    errors = r_[errors, array([train_error, test_error])[newaxis,:]]\n",
    "    axs[1].plot(errors)\n",
    "    axs[1].set_title('Classification Errors')\n",
    "    axs[1].set_ylim([0,1])\n",
    "    axs[1].legend(['Training','Test'])\n",
    "    \n",
    "    # Update w\n",
    "    w = update_w_all(w, X_train, y_train, eta)\n"
   ]
  },
  {
   "cell_type": "markdown",
   "metadata": {
    "slideshow": {
     "slide_type": "slide"
    }
   },
   "source": [
    "Exercise 2. implement the code to do a single step of perceptron weight update. Press the button each time to run a single step of `update_w_all`; re-evaluating the cell resets the weight and starts over.\n",
    "\n",
    "Remember:\n",
    "\n",
    "$${\\bf w} \\leftarrow {\\bf w} + \\eta y_i {\\bf x}_i' $$\n",
    "\n",
    "Note that the following code does random train-test split everytime `w` is updated."
   ]
  },
  {
   "cell_type": "code",
   "execution_count": 22,
   "metadata": {
    "collapsed": false,
    "slideshow": {
     "slide_type": "subslide"
    }
   },
   "outputs": [
    {
     "data": {
      "text/plain": [
       "<function __main__.perceptron_training>"
      ]
     },
     "execution_count": 22,
     "metadata": {},
     "output_type": "execute_result"
    }
   ],
   "source": [
    "def _delta_w_single(w, x, y):\n",
    "    \"\"\"Calculates the gradient for w from the single sample x and the target y.\n",
    "    \n",
    "        inputs:\n",
    "            w: 1 x (p+1) vector of current weights.\n",
    "            x: 1 x p vector representing the single sample.\n",
    "            y: the target, -1 or 1.\n",
    "        \n",
    "        returns:\n",
    "            w: 1 x (p+1) vector of updated weights.\n",
    "    \"\"\"\n",
    "    # TODO implement this\n",
    "    return 0\n",
    "\n",
    "def update_w_all(w, X, y, eta = 0.1):\n",
    "    \"\"\"Updates the weight vector for all training examples.\n",
    "\n",
    "        inputs:\n",
    "            w: 1 x (p+1) vector of current weights.\n",
    "            X: N x p vector representing the single sample.\n",
    "            y: N x 1 vector of the targets, -1 or 1.\n",
    "            eta: The training rate. Defaults to 0.1.\n",
    "        \n",
    "        returns:\n",
    "            w: 1 x (p+1) vector of updated weights.\n",
    "    \"\"\"\n",
    "    for xi, yi in zip(X, y):\n",
    "        w += eta * delta_w_single(w, xi, yi) / X.shape[0]\n",
    "    return w\n",
    "\n",
    "from numpy.random import random_sample \n",
    "w = random_sample(3)   # Initialize w to values from [0, 1)\n",
    "errors = zeros((0, 2)) # Keeps track of error values over time\n",
    "interact_manual(perceptron_training, X=fixed(X), y=fixed(y), eta=FloatSlider(min=0.01, max=1.0, value=0.1))"
   ]
  },
  {
   "cell_type": "code",
   "execution_count": 17,
   "metadata": {
    "collapsed": true,
    "slideshow": {
     "slide_type": "skip"
    }
   },
   "outputs": [],
   "source": [
    "# A sample solution:\n",
    "\n",
    "def delta_w_single(w, x, y):\n",
    "    \"\"\"Updates the weight vector w from the single sample x and the target y.\n",
    "    \n",
    "        inputs:\n",
    "            w: 1 x (p+1) vector of current weights.\n",
    "            x: 1 x p vector representing the single sample.\n",
    "            y: the target, -1 or 1.\n",
    "        \n",
    "        returns:\n",
    "            w: 1 x (p+1) vector of updated weights.\n",
    "    \"\"\"\n",
    "    x_prime = r_[x, 1]\n",
    "    prediction = sign(dot(x_prime, w.T))\n",
    "    if prediction != y:\n",
    "        return y * x_prime\n",
    "    else:\n",
    "        return 0"
   ]
  },
  {
   "cell_type": "markdown",
   "metadata": {
    "slideshow": {
     "slide_type": "slide"
    }
   },
   "source": [
    "The perceptron only works for linearly separable data."
   ]
  },
  {
   "cell_type": "code",
   "execution_count": 23,
   "metadata": {
    "collapsed": false,
    "slideshow": {
     "slide_type": "subslide"
    }
   },
   "outputs": [
    {
     "data": {
      "image/png": "[encoded data removed]",
      "text/plain": [
       "<matplotlib.figure.Figure at 0x107c27090>"
      ]
     },
     "metadata": {},
     "output_type": "display_data"
    }
   ],
   "source": [
    "from sklearn.datasets import make_circles, make_moons\n",
    "X_circle, y_circle = make_circles(100) # or try make_moons(100)\n",
    "y_circle = y_circle * 2 - 1\n",
    "X_circle*=4  # Make it a bit larger\n",
    "plt.scatter(X_circle[:,0], X_circle[:,1], c=y_circle, edgecolor='none')\n",
    "plt.xlim([-10,10]); plt.ylim([-10,10]); plt.grid()\n",
    "plt.axes().set_aspect('equal')"
   ]
  },
  {
   "cell_type": "code",
   "execution_count": 24,
   "metadata": {
    "collapsed": false,
    "slideshow": {
     "slide_type": "subslide"
    }
   },
   "outputs": [
    {
     "data": {
      "image/png": "[encoded data removed]",
      "text/plain": [
       "<matplotlib.figure.Figure at 0x10825b750>"
      ]
     },
     "metadata": {},
     "output_type": "display_data"
    }
   ],
   "source": [
    "w = random_sample(3)   # Initialize w to values from [0, 1)\n",
    "errors = zeros((0, 2)) # Keeps track of error values over time\n",
    "interact_manual(perceptron_training, X=fixed(X_circle), y=fixed(y_circle), eta=fixed(0.1))"
   ]
  },
  {
   "cell_type": "code",
   "execution_count": null,
   "metadata": {
    "collapsed": true
   },
   "outputs": [],
   "source": []
  }
 ],
 "metadata": {
  "kernelspec": {
   "display_name": "Python 2",
   "language": "python",
   "name": "python2"
  },
  "language_info": {
   "codemirror_mode": {
    "name": "ipython",
    "version": 2
   },
   "file_extension": ".py",
   "mimetype": "text/x-python",
   "name": "python",
   "nbconvert_exporter": "python",
   "pygments_lexer": "ipython2",
   "version": "2.7.9"
  }
 },
 "nbformat": 4,
 "nbformat_minor": 0
}
