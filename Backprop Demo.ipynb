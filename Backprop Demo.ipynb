{
 "cells": [
  {
   "cell_type": "code",
   "execution_count": 4,
   "metadata": {
    "collapsed": false,
    "slideshow": {
     "slide_type": "skip"
    }
   },
   "outputs": [
    {
     "name": "stdout",
     "output_type": "stream",
     "text": [
      "The autoreload extension is already loaded. To reload it, use:\n",
      "  %reload_ext autoreload\n"
     ]
    }
   ],
   "source": [
    "%load_ext autoreload\n",
    "%autoreload 2\n",
    "%matplotlib inline\n",
    "\n",
    "from numpy import *\n",
    "from IPython.html.widgets import *\n",
    "from IPython.display import display\n",
    "import matplotlib.pyplot as plt\n",
    "from IPython.core.display import clear_output"
   ]
  },
  {
   "cell_type": "markdown",
   "metadata": {
    "slideshow": {
     "slide_type": "slide"
    }
   },
   "source": [
    "# Backpropagation Demo\n",
    "\n",
    "In this demo, we will implement the backpropagation algorithm to train a simple neural network with a single hidden layer.\n",
    "\n",
    "<img src=\"files/images/Backpropagation/diagram.png\" style=\"margin:auto; width: 330px;\"/>"
   ]
  },
  {
   "cell_type": "markdown",
   "metadata": {
    "slideshow": {
     "slide_type": "slide"
    }
   },
   "source": [
    "# What is backpropagation?\n",
    "\n",
    "Previously, we have derived the stochastic gradient decent rule for a single-layer network (perceptron).  (Error) backpropagation algorithm is a learning rule that lets us train feed-forward networks with more layers. \n",
    "\n",
    "## Notation\n",
    "\n",
    " * Input nodes: $ {\\bf x} = (x_1, x_2, ... x_i)$\n",
    " * Hidden nodes: $ {\\bf z} = (z_1, z_2, ... z_j)$\n",
    " * Output nodes: $ {\\bf y} = (y_1, y_2, ... y_k)$\n",
    "\n",
    "The input nodes are connected to the hidden nodes via weights $w^{(h)}_{ij}$, and hidden nodes to output nodes via $w^{(y)}_{jk}$."
   ]
  },
  {
   "cell_type": "markdown",
   "metadata": {
    "slideshow": {
     "slide_type": "subslide"
    }
   },
   "source": [
    "### 1. Forward propagation\n",
    "\n",
    "Given a particular input ${\\bf x}$, we calculate the value (or **activation**) of a particular hidden node $z_j$ by taking the weighted sum of the inputs with $w^{(h)}_{ij}$ and passing it through an **activation function** $\\sigma$:\n",
    "\n",
    "$$ z_j = \\sigma \\left( \\sum_i x_i w^{(h)}_{ij} \\right)$$\n",
    "\n",
    "The activation function is a *nonlinear* function.  A popular choice is a sigmoid, for instance the `tanh` function:"
   ]
  },
  {
   "cell_type": "code",
   "execution_count": 133,
   "metadata": {
    "collapsed": false
   },
   "outputs": [
    {
     "data": {
      "image/png": "[encoded data removed]",
      "text/plain": [
       "<matplotlib.figure.Figure at 0x1060f3ed0>"
      ]
     },
     "metadata": {},
     "output_type": "display_data"
    }
   ],
   "source": [
    "xs=linspace(-3,3,100)\n",
    "plt.plot(xs,tanh(xs)); plt.grid()"
   ]
  },
  {
   "cell_type": "markdown",
   "metadata": {
    "slideshow": {
     "slide_type": "subslide"
    }
   },
   "source": [
    "We can calculate all values of the hidden nodes at once using the vector notation:\n",
    "\n",
    "$$ {\\bf z} = \\sigma( {\\bf x} \\cdot W^{(h)} ) $$\n",
    "\n",
    "And, similarly, the values of the output nodes are calculated as\n",
    "\n",
    "$$ {\\bf y} = \\sigma( {\\bf z} \\cdot W^{(o)} ) $$\n",
    "\n",
    "You can do the vector-matrix multiplication in `numpy` using the `dot` function, e.g. `dot(x, Wh)`.\n",
    "\n",
    "This is called the **forward propagation** phase."
   ]
  },
  {
   "cell_type": "markdown",
   "metadata": {
    "slideshow": {
     "slide_type": "subslide"
    }
   },
   "source": [
    "Exercise 1. Implement the feed-forward calculation.  Use `tanh` as the activation function $\\sigma()$.\n",
    "\n",
    "$$ {\\bf z} = \\sigma( {\\bf x} \\cdot W^{(h)} ) \\\\ {\\bf y} = \\sigma( {\\bf z} \\cdot W^{(o)} )$$"
   ]
  },
  {
   "cell_type": "code",
   "execution_count": 343,
   "metadata": {
    "collapsed": false
   },
   "outputs": [
    {
     "name": "stdout",
     "output_type": "stream",
     "text": [
      "False\n",
      "False\n"
     ]
    }
   ],
   "source": [
    "def feed_forward(x, Wh, Wo, activation_function=tanh):\n",
    "    \"\"\"Calculates the activations for the hidden and output nodes.\n",
    "    \n",
    "    inputs:\n",
    "        x: N x I matrix, where each row is a particular observation.\n",
    "        Wh: I x J matrix of hidden weights.\n",
    "        Wo: J x K matrix of output weights.\n",
    "        activation_function: the activation function to use.\n",
    "    \n",
    "    returns:\n",
    "        z: N x J matrix of hidden activations.\n",
    "        y: N x K matrix of output activations.\n",
    "    \"\"\"\n",
    "    # TODO implement this\n",
    "    N, I = x.shape\n",
    "    J, K = Wo.shape\n",
    "    return zeros((N, J)), zeros((N, K))\n",
    "\n",
    "# Test to see if you implemented it correctly:\n",
    "z, y = feed_forward(array([[1,2,3]]), ones((3,2))*.5, ones((2,1))*.3, activation_function=tanh)\n",
    "print(all(abs(z - array([[ 0.99505475,  0.99505475]])) < 1e-8))\n",
    "print(all(abs(y - array([[ 0.53493485]])) < 1e-8))"
   ]
  },
  {
   "cell_type": "code",
   "execution_count": 175,
   "metadata": {
    "collapsed": false,
    "slideshow": {
     "slide_type": "notes"
    }
   },
   "outputs": [
    {
     "name": "stdout",
     "output_type": "stream",
     "text": [
      "True\n",
      "True\n"
     ]
    }
   ],
   "source": [
    "# Sample solution:\n",
    "def feed_forward(x, Wh, Wo, activation_function=tanh):\n",
    "    \"\"\"Calculates the activations for the hidden and output nodes.\n",
    "    \n",
    "    inputs:\n",
    "        x: N x I matrix, where each row is a particular observation.\n",
    "        Wh: I x J matrix of hidden weights.\n",
    "        Wo: J x K matrix of output weights.\n",
    "        activation_function: the activation function to use.\n",
    "    \n",
    "    returns:\n",
    "        z: N x J matrix of hidden activations.\n",
    "        y: N x K matrix of output activations.\n",
    "    \"\"\"\n",
    "    z = activation_function(dot(x, Wh))\n",
    "    y = activation_function(dot(z, Wo))\n",
    "    return z, y\n",
    "\n",
    "# Test to see if you implemented it correctly:\n",
    "z, y = feed_forward(array([[1,2,3]]), ones((3,2))*.5, ones((2,1))*.3)\n",
    "print(all(abs(z - array([[ 0.99505475,  0.99505475]])) < 1e-8))\n",
    "print(all(abs(y - array([[ 0.53493485]])) < 1e-8))"
   ]
  },
  {
   "cell_type": "markdown",
   "metadata": {
    "slideshow": {
     "slide_type": "slide"
    }
   },
   "source": [
    "### 2. Backward propagation\n",
    "\n",
    "We then calculate \"errors\" associated with each node in the network.  This is called the **backward propagation** phase.\n",
    " \n",
    "As was in the perceptron, the goal of the training is to change the weights $W^{(h)}, W^{(o)}$ so that the current output ${\\bf y}$ will be closer to the target values ${\\bf t}$.\n",
    "\n",
    " * For the output unit $y_k$, we define the \"error\" as $\\delta^{(o)}_k = y_k - t_k$.\n",
    " * For the hidden unit $z_j$, we define the \"error\" as $\\delta^{(h)}_j = \\sigma' ({\\bf x \\cdot W^{(h)}}) \\sum_k w^{(o)}_{jk} \\delta^{(o)}_k$."
   ]
  },
  {
   "cell_type": "markdown",
   "metadata": {
    "slideshow": {
     "slide_type": "subslide"
    }
   },
   "source": [
    "It looks a bit hairy, but it's conceptually simple:\n",
    "\n",
    " * For the output units, the error is positive (and proportional to) how much my prediction $y_k$ overshot the target $t_k$.\n",
    " * For the hidden units, the error is a *sum* of all the output unit errors it's connected to (*not* the input units).  \n",
    " \n",
    "The delta of the hidden units are also multiplied by the derivative of the activation function (i.e. the slope of the activation function), because the \"errors\" (the $\\delta$s) are actually partial derivatives of the loss function with respect to the weights.\n",
    "\n",
    "<img src=\"files/images/Backpropagation/diagram2.png\" style=\"margin:auto; width: 300px;\"/>"
   ]
  },
  {
   "cell_type": "markdown",
   "metadata": {
    "slideshow": {
     "slide_type": "subslide"
    }
   },
   "source": [
    "Exercise 2: implement the routine to calculate the errors (deltas).\n",
    "\n",
    "$$\n",
    "    \\delta^{(o)} = \\underbrace{y - t}_{N \\times K} \\\\\n",
    "    \\delta^{(h)} = \\underbrace{\\sigma' ({\\bf x \\cdot W^{(h)}})}_{N \\times J} \\times \\underbrace{(\\delta^{(o)} \\cdot W^{(o)\\intercal})}_{N \\times J}\n",
    "$$\n",
    "\n",
    "Here, I've used the $\\times$ symbol to denote the element-wise multiplication, which can be done by using the `multiply` function in NumPy."
   ]
  },
  {
   "cell_type": "code",
   "execution_count": 176,
   "metadata": {
    "collapsed": false
   },
   "outputs": [
    {
     "name": "stdout",
     "output_type": "stream",
     "text": [
      "False\n",
      "False\n"
     ]
    }
   ],
   "source": [
    "def approximate_derivative(f, x):\n",
    "    \"\"\"Return the (first-order) approximation of the derivative of f at x.\"\"\"\n",
    "    epsilon=1e-8\n",
    "    return (f(x+epsilon) - f(x)) / epsilon\n",
    "\n",
    "def calculate_deltas(y, t, x, Wh, Wo, activation_function=tanh):\n",
    "    \"\"\"Calculates the delta values for the output and hidden nodes.\n",
    "    \n",
    "    inputs:\n",
    "        y: N x K matrix of output activations.\n",
    "        t: N x K matrix of target values.\n",
    "        x: N x I matrix, where each row is a particular observation.\n",
    "        Wh: I x J matrix of hidden weights.\n",
    "        Wo: J x K matrix of output weights.\n",
    "        activation_function: the activation function to use.\n",
    "    \n",
    "    returns:\n",
    "        do: N x K matrix of deltas for the output nodes.\n",
    "        dh: N x J matrix of deltas for the hidden nodes.\n",
    "    \"\"\"\n",
    "    # TODO implement this\n",
    "    N, K = y.shape\n",
    "    I, J = Wh.shape\n",
    "    return zeros((N, K)), zeros((I, J))\n",
    "\n",
    "# Test to see if you implemented it correctly:\n",
    "do, dh = calculate_deltas(array([[1]]), array([[2]]),\n",
    "    array([[1,2,3]]), ones((3,2))*.5, ones((2,1))*.4)\n",
    "print(do[0,0] == -1)\n",
    "print(all(abs(dh - array([[-0.00394641,-0.00394641]])) < 1e-8))"
   ]
  },
  {
   "cell_type": "code",
   "execution_count": 178,
   "metadata": {
    "collapsed": false,
    "slideshow": {
     "slide_type": "skip"
    }
   },
   "outputs": [
    {
     "name": "stdout",
     "output_type": "stream",
     "text": [
      "True\n",
      "True\n"
     ]
    }
   ],
   "source": [
    "# Sample solution:\n",
    "def approximate_derivative(f, x):\n",
    "    \"\"\"Return the (first-order) approximation of the derivative of f at x.\"\"\"\n",
    "    epsilon=1e-8\n",
    "    return (f(x+epsilon) - f(x)) / epsilon\n",
    "\n",
    "def calculate_deltas(y, t, x, Wh, Wo, activation_function=tanh):\n",
    "    \"\"\"Calculates the delta values for the output and hidden nodes.\n",
    "    \n",
    "    inputs:\n",
    "        y: N x K matrix of output activations.\n",
    "        t: N x K matrix of target values.\n",
    "        x: N x I matrix, where each row is a particular observation.\n",
    "        Wh: I x J matrix of hidden weights.\n",
    "        Wo: J x K matrix of output weights.\n",
    "        activation_function: the activation function to use.\n",
    "    \n",
    "    returns:\n",
    "        do: N x K matrix of deltas for the output nodes.\n",
    "        dh: N x J matrix of deltas for the hidden nodes.\n",
    "    \"\"\"\n",
    "    do = y - t\n",
    "    dh = multiply(approximate_derivative(activation_function, dot(x, Wh)), dot(do, Wo.T))\n",
    "    return do, dh\n",
    "\n",
    "# Test to see if you implemented it correctly:\n",
    "do, dh = calculate_deltas(array([[1]]), array([[2]]),\n",
    "    array([[1,2,3]]), ones((3,2))*.5, ones((2,1))*.4)\n",
    "print(do[0,0] == -1)\n",
    "print(all(abs(dh - array([[-0.00394641,-0.00394641]])) < 1e-8))"
   ]
  },
  {
   "cell_type": "markdown",
   "metadata": {
    "slideshow": {
     "slide_type": "slide"
    }
   },
   "source": [
    "### 3. Weight update phase\n",
    "\n",
    "After calculating all $\\delta_k$ and $\\delta_j$s, we update the weights using the stochastic gradient rule:\n",
    "\n",
    "$$\n",
    " w^{(o)}_{jk} \\leftarrow w^{(o)}_{jk} + \\eta z_j \\delta^{(o)}_k \\\\\n",
    " w^{(h)}_{ij} \\leftarrow w^{(h)}_{ij} + \\eta x_i \\delta^{(h)}_j \\\\\n",
    "$$\n",
    "\n",
    "Note that the amount the weight changes is also modulated by the activation of the node: if a node had a large activation, weights associated with it is changed by a large amount, too. "
   ]
  },
  {
   "cell_type": "markdown",
   "metadata": {
    "slideshow": {
     "slide_type": "subslide"
    }
   },
   "source": [
    "Exercise 3. Implement the routine to update the weights.\n",
    "\n",
    "We can do the updates one sample observation $x_i$ at a time (online learning), or just use the average of the delta values (batch learning). For the batch learning, the update rule would be:\n",
    "\n",
    "$$\n",
    " \\underbrace{W^{(o)}}_{J \\times K} \\leftarrow W^{(o)} +  \\frac{\\eta}{N} \\cdot \\underbrace{{\\bf z}^\\intercal}_{K \\times N} \\cdot \\underbrace{\\delta^{(o)}}_{N \\times K}  \\\\\n",
    " \\underbrace{W^{(h)}}_{I \\times J} \\leftarrow W^{(h)} + \\frac{\\eta}{N} \\cdot \\underbrace{{\\bf x}^\\intercal}_{I \\times N} \\cdot \\underbrace{\\delta^{(h)}}_{N \\times J} \\\\\n",
    "$$"
   ]
  },
  {
   "cell_type": "code",
   "execution_count": 228,
   "metadata": {
    "collapsed": false
   },
   "outputs": [
    {
     "name": "stdout",
     "output_type": "stream",
     "text": [
      "False\n",
      "False\n"
     ]
    }
   ],
   "source": [
    "def update_weights(Wh, Wo, z, do, x, dh, eta = 0.1):\n",
    "    \"\"\"Updates the hidden and output weights and return them.\n",
    "    \n",
    "    inputs:\n",
    "        Wh: I x J matrix of hidden weights.\n",
    "        Wo: J x K matrix of output weights.\n",
    "        z: N x J matrix of hidden activations.\n",
    "        do: N x K matrix of deltas for the output nodes.\n",
    "        x: N x I matrix, where each row is a particular observation.\n",
    "        dh: N x J matrix of deltas for the hidden nodes.\n",
    "        eta: the learning rate to use.\n",
    "    \n",
    "    returns:\n",
    "        updated Wh and Wo.\n",
    "    \"\"\"\n",
    "    # TODO implement this\n",
    "    return Wh, Wo\n",
    "\n",
    "# Test to see if you implemented it correctly:\n",
    "Wh, Wo = update_weights(Wh=ones((3,3))*.3, Wo=ones((3,2))*.5, \n",
    "                        z=array([[1,2,3]]), do=array([[1,2]]),\n",
    "                        x=array([[1,2,3]]), dh=ones((1,3))*.4)\n",
    "\n",
    "print(all(abs(Wh - array([[ 0.34, 0.34, 0.34], [0.38,  0.38,  0.38], [ 0.42,  0.42,  0.42]])) < 1e-8))\n",
    "print(all(abs(Wo - array([[ 0.6, 0.7], [ 0.7, 0.9], [ 0.8, 1.1]])) < 1e-8))"
   ]
  },
  {
   "cell_type": "code",
   "execution_count": 229,
   "metadata": {
    "collapsed": false,
    "slideshow": {
     "slide_type": "skip"
    }
   },
   "outputs": [
    {
     "name": "stdout",
     "output_type": "stream",
     "text": [
      "True\n",
      "True\n"
     ]
    }
   ],
   "source": [
    "# Sample solution:\n",
    "def update_weights(Wh, Wo, z, do, x, dh, eta = 0.1):\n",
    "    \"\"\"Updates the hidden and output weights and return them.\n",
    "    \n",
    "    inputs:\n",
    "        Wh: I x J matrix of hidden weights.\n",
    "        Wo: J x K matrix of output weights.\n",
    "        z: N x J matrix of hidden activations.\n",
    "        do: N x K matrix of deltas for the output nodes.\n",
    "        x: N x I matrix, where each row is a particular observation.\n",
    "        dh: N x J matrix of deltas for the hidden nodes.\n",
    "        eta: the learning rate to use.\n",
    "    \n",
    "    returns:\n",
    "        updated Wh and Wo.\n",
    "    \"\"\"\n",
    "    N = x.shape[0]\n",
    "    Wo = Wo + eta / N * dot(z.T, do)\n",
    "    Wh = Wh + eta / N * dot(x.T, dh)\n",
    "    return Wh, Wo \n",
    "\n",
    "# Test to see if you implemented it correctly:\n",
    "Wh, Wo = update_weights(Wh=ones((3,3))*.3, Wo=ones((3,2))*.5, \n",
    "                        z=array([[1,2,3]]), do=array([[1,2]]),\n",
    "                        x=array([[1,2,3]]), dh=ones((1,3))*.4)\n",
    "\n",
    "print(all(abs(Wh - array([[ 0.34, 0.34, 0.34], [0.38,  0.38,  0.38], [ 0.42,  0.42,  0.42]])) < 1e-8))\n",
    "print(all(abs(Wo - array([[ 0.6, 0.7], [ 0.7, 0.9], [ 0.8, 1.1]])) < 1e-8))"
   ]
  },
  {
   "cell_type": "markdown",
   "metadata": {
    "slideshow": {
     "slide_type": "slide"
    }
   },
   "source": [
    "### Putting them all together\n",
    "\n",
    "Now we just need to put them together and update the weight matrices until we get the desired performance out of the network."
   ]
  },
  {
   "cell_type": "code",
   "execution_count": 230,
   "metadata": {
    "collapsed": true
   },
   "outputs": [],
   "source": [
    "def bp_update_weights(Wh, Wo, x, t, activation_function=tanh, eta=0.1):\n",
    "    \"\"\"Updates Wh, Wo and returns them from the traning set x and targets t.\"\"\"\n",
    "    z, y = feed_forward(x, Wh, Wo, activation_function=activation_function)\n",
    "    do, dh = calculate_deltas(y, t, x, Wh, Wo, activation_function=activation_function)\n",
    "    Wh, Wo = update_weights(Wh, Wo, z, do, x, dh, eta = eta)\n",
    "    return Wh, z, Wo, y"
   ]
  },
  {
   "cell_type": "code",
   "execution_count": 344,
   "metadata": {
    "collapsed": false,
    "slideshow": {
     "slide_type": "skip"
    }
   },
   "outputs": [
    {
     "data": {
      "image/png": "[encoded data removed]",
      "text/plain": [
       "<matplotlib.figure.Figure at 0x1035fb7d0>"
      ]
     },
     "metadata": {},
     "output_type": "display_data"
    }
   ],
   "source": [
    "# Function to plot the network\n",
    "def plot_nn(x, Wh, z, Wo, y):\n",
    "    fig, ax = plt.subplots() \n",
    "    cmap = plt.get_cmap('RdBu')\n",
    "    for i, x_ in enumerate(x.T):\n",
    "        ax.add_artist(plt.Circle((1, -i-1), 0.25, ec='k', fc=cmap(x_[0]/2+.5)))\n",
    "    \n",
    "    for i, wi in enumerate(Wh):\n",
    "        for j, w_ in enumerate(wi):\n",
    "            ax.add_artist(plt.arrow(1.3, -i-1, 1.3, (i-j)*.9, head_width=0.05, head_length=0.1, ec=cmap(w_/2+.5)))\n",
    "\n",
    "    for i, z_ in enumerate(z.T):\n",
    "        ax.add_artist(plt.Circle((3, -i-1), 0.25, ec='k', fc=cmap(z_[0]/2+.5)))\n",
    "        \n",
    "    for i, wi in enumerate(Wo):\n",
    "        for j, w_ in enumerate(wi):\n",
    "            ax.add_artist(plt.arrow(3.3, -i-1, 1.3, (i-j)*.9, head_width=0.05, head_length=0.1, ec=cmap(w_/2+.5)))\n",
    "        \n",
    "    for i, y_ in enumerate(y.T):\n",
    "        ax.add_artist(plt.Circle((5, -i-1), 0.25, ec='k', fc=cmap(y_[0]/2+.5)))\n",
    "        \n",
    "    m = max(x.shape + z.shape + y.shape)\n",
    "    ax.set_xlim([0, 6])\n",
    "    ax.set_ylim([-m-1,0])\n",
    "    ax.set_aspect('equal')\n",
    "    ax.axis('off')\n",
    "plot_nn(array([[-.2,.5,1.0]]), -ones((3,3)), ones((1,3)), ones((3, 2)), zeros((1,2)))"
   ]
  },
  {
   "cell_type": "markdown",
   "metadata": {
    "slideshow": {
     "slide_type": "subslide"
    }
   },
   "source": [
    "Let's try training it to recognize the \"XOR\" pattern, and watch how it modifies the weights."
   ]
  },
  {
   "cell_type": "code",
   "execution_count": 319,
   "metadata": {
    "collapsed": false
   },
   "outputs": [],
   "source": [
    "X=array([\n",
    "    [ 1,-1, 1],\n",
    "    [-1, 1, 1],\n",
    "    [ 1, 1, 1],\n",
    "    [-1,-1, 1]])\n",
    "T=array([\n",
    "    [ 1],\n",
    "    [ 1],\n",
    "    [-1],\n",
    "    [-1]])\n",
    "\n",
    "# Initialize weights\n",
    "J = 4 # Number of hidden units\n",
    "from numpy.random import random_sample\n",
    "Wh = random_sample((X.shape[1], J))\n",
    "Wo = random_sample((J, T.shape[1]))\n",
    "epoch = 0\n",
    "\n",
    "def update_and_plot():\n",
    "    global X, T, epoch, Wh, Wo\n",
    "    # Train one example at a time (online learning)\n",
    "    x = X[epoch % X.shape[0],newaxis]\n",
    "    Wh, z, Wo, y = bp_update_weights(Wh, Wo, x, T[epoch % T.shape[0],newaxis])\n",
    "    plot_nn(x, Wh, z, Wo, y)\n",
    "    print('Wh')\n",
    "    print(Wh)\n",
    "    print('Wo')\n",
    "    print(Wo)\n",
    "    epoch += 1"
   ]
  },
  {
   "cell_type": "markdown",
   "metadata": {
    "slideshow": {
     "slide_type": "slide"
    }
   },
   "source": [
    "# Training the network for the face datasets\n",
    "\n",
    "Load the dataset and write the routine to perform preprocessing (PCA)."
   ]
  },
  {
   "cell_type": "code",
   "execution_count": 3,
   "metadata": {
    "collapsed": true
   },
   "outputs": [],
   "source": [
    "import pickle\n",
    "dataset=pickle.load(open('cafe.pkl','r')) # or 'pofa.pkl' for POFA\n",
    "\n",
    "from numpy.linalg import svd\n",
    "def preprocess(data, n_components=10):\n",
    "    X=data.copy()\n",
    "    X_mean=X.mean(axis=0,keepdims=True)\n",
    "    X_std =X.std(axis=0,keepdims=True)\n",
    "    X-=X_mean\n",
    "    _,s,V=svd(X,compute_uv=True, full_matrices=False)    \n",
    "    return dot(X, V[:n_components].T), X_mean, X_std, V\n"
   ]
  },
  {
   "cell_type": "markdown",
   "metadata": {},
   "source": [
    "Now, let's define the neural network class."
   ]
  },
  {
   "cell_type": "code",
   "execution_count": 8,
   "metadata": {
    "collapsed": false
   },
   "outputs": [],
   "source": [
    "from sklearn.learning_curve import learning_curve\n",
    "from sklearn.cross_validation import train_test_split\n",
    "from numpy.random import random_sample\n",
    "\n",
    "class NeuralNetwork(object):\n",
    "    def _activation(self, x):\n",
    "        \"\"\" Funny tanh function. \"\"\"\n",
    "        z = x*2/3\n",
    "        y = (exp(z) - exp(-z)) / (exp(z) + exp(-z))\n",
    "        return 1.7159*y\n",
    "    \n",
    "    def _da(self, x):\n",
    "        return (1.7159 - multiply(x, x) / 1.7159) * 2/3\n",
    "    \n",
    "    def feed_forward(self, X):\n",
    "        \"\"\"From the input X, calculate the activations at the hidden layer and the output layer.\"\"\"\n",
    "        Z      = self._activation(dot(c_[X, ones((X.shape[0], 1))], self.W_hidden))\n",
    "        return   self._activation(dot(c_[Z, ones((X.shape[0], 1))], self.W_output)), Z\n",
    "                                        \n",
    "    def back_propagate(self, inputs, hidden, output, errors):\n",
    "        \"\"\"Back-propagate the errors and update the weights.\"\"\"\n",
    "        d_output = self._da(output) * errors\n",
    "        d_hidden = self._da(hidden) * dot(d_output, self.W_output[:-1].T)\n",
    "        \n",
    "        n_samples = inputs.shape[0]\n",
    "        bias = ones((n_samples, 1))\n",
    "        # Update momentum and weights\n",
    "        self.V_output = self.output_learning_rate * dot(c_[hidden, bias].T, d_output) / n_samples + \\\n",
    "                        self.momentum_learning_rate * self.V_output\n",
    "        self.W_output+= self.V_output\n",
    "        \n",
    "        self.V_hidden = self.hidden_learning_rate * dot(c_[inputs, bias].T, d_hidden) / n_samples + \\\n",
    "                        self.momentum_learning_rate * self.V_hidden\n",
    "        self.W_hidden+= self.V_hidden \n",
    "    \n",
    "    def train(self, data, targets, epochs = 100, n_input = 10, n_hidden = 40, \n",
    "            hidden_learning_rate = 0.1, output_learning_rate = 0.1, momentum_learning_rate = 0.9,          \n",
    "            test_size=0.2, cv=3):\n",
    "        \"\"\"Initialize the network and start training.\"\"\"\n",
    "\n",
    "        # Initialize variables\n",
    "        self.n_input = n_input\n",
    "        self.n_hidden = n_hidden\n",
    "        self.hidden_learning_rate = hidden_learning_rate\n",
    "        self.output_learning_rate = output_learning_rate\n",
    "        self.momentum_learning_rate = momentum_learning_rate\n",
    "        self.targets = targets\n",
    "        \n",
    "        self.n_output = len(unique(targets))\n",
    "        self.V_hidden = zeros((self.n_input + 1, self.n_hidden))\n",
    "        self.W_hidden = random_sample(self.V_hidden.shape)\n",
    "        self.V_output = zeros((self.n_hidden + 1, self.n_output))\n",
    "        self.W_output = random_sample(self.V_output.shape)\n",
    "        \n",
    "        # Preprocess the data\n",
    "        disp('Preprocessing %d samples' % data.shape[0])\n",
    "        X, X_mean, X_std, V = preprocess(data, n_components=self.n_input)\n",
    "        self.X = X\n",
    "        self.X_mean = X_mean\n",
    "        self.X_std = X_std\n",
    "        self.V = V\n",
    "\n",
    "        # Start the training\n",
    "        disp('Starting network training')\n",
    "        rmse=zeros((epochs,2))\n",
    "        cerr=zeros((epochs,2))\n",
    "        for t in arange(epochs):\n",
    "            # Reshuffle\n",
    "            X_train, X_test, y_train, y_test = train_test_split(X, targets, test_size=test_size, random_state=0)\n",
    "            \n",
    "            # Test then Train, since we'll use the training errors\n",
    "            for i, (inputs, y) in enumerate([[X_test, y_test], [X_train, y_train]]):\n",
    "                outputs, hidden = self.feed_forward(inputs)\n",
    "                target=ones(outputs.shape)*(-1.0)\n",
    "                target[arange(target.shape[0]),y-1]=1.0\n",
    "                errors = target - outputs\n",
    "                rmse[t, i] = sqrt((errors**2).mean())  # RMSE\n",
    "                cerr[t, i] = (y == argmax(outputs,axis=1)).mean()\n",
    "            \n",
    "            yield rmse, cerr, t, epochs\n",
    "            \n",
    "            # Update weights using backpropagation\n",
    "            self.back_propagate(inputs, hidden, outputs, errors)\n",
    "\n",
    "    def predict(self, n):\n",
    "        \"\"\"Returns the prediction and the reconstruction for the sample n.\"\"\"\n",
    "        outputs, hidden = self.feed_forward(self.X[n:n+1])\n",
    "        return argmax(outputs) + 1, dot(self.X[n:n+1], self.V[:self.n_input]) + self.X_mean"
   ]
  },
  {
   "cell_type": "code",
   "execution_count": 11,
   "metadata": {
    "collapsed": false
   },
   "outputs": [
    {
     "data": {
      "image/png": "[encoded data removed]",
      "text/plain": [
       "<matplotlib.figure.Figure at 0x10dc2b550>"
      ]
     },
     "metadata": {},
     "output_type": "display_data"
    }
   ],
   "source": [
    "def plot_training(axs, rmse, cerr, t, epochs):\n",
    "    \"\"\"Draw the plot to the specified axis.\"\"\"\n",
    "    axs[0].set_title(\"RMSE\")\n",
    "    axs[0].set_xlabel(\"Training epoch\")\n",
    "    axs[0].set_ylabel(\"RMSE\")\n",
    "    axs[0].grid()\n",
    "\n",
    "    axs[0].plot(arange(t), rmse[:t])\n",
    "    axs[0].set_xlim([0, epochs])\n",
    "    axs[0].set_ylim([0, 2.0])\n",
    "    axs[0].legend(['Test', 'Training'], loc=\"best\")\n",
    "\n",
    "    axs[1].set_title(\"Classification Error\")\n",
    "    axs[1].set_xlabel(\"Training epoch\")\n",
    "    axs[1].set_ylabel(\"Classification Error Rate [\\%]\")\n",
    "    axs[1].grid()\n",
    "\n",
    "    axs[1].plot(arange(t), cerr[:t]*100.0)\n",
    "    axs[1].set_xlim([0, epochs])\n",
    "    axs[1].set_ylim([0, 100.0])\n",
    "    axs[1].legend(['Test', 'Training'], loc=\"best\")    \n",
    "\n",
    "trained_nets={}\n",
    "def train_network(target_name='target', **kwargs):\n",
    "    net = NeuralNetwork()\n",
    "    fig, axs = plt.subplots(1,2,figsize=(10,5))\n",
    "    for rmse, cerr, t, epochs in net.train(dataset.data, dataset[target_name], **kwargs):\n",
    "        if mod(t, 10) != 0:\n",
    "            continue\n",
    "\n",
    "        plot_training(axs, rmse, cerr, t, epochs)\n",
    "        clear_output(wait=True)\n",
    "        display(fig)\n",
    "        axs[0].cla()\n",
    "        axs[1].cla()\n",
    "\n",
    "    plt.close()\n",
    "    plot_training(axs, rmse, cerr, t, epochs)\n",
    "    trained_nets['net']=net\n",
    "\n",
    "interact_manual(train_network,\n",
    "    target_name={'Identity': 'target', 'Gender': 'gender'},\n",
    "    epochs= IntSlider(min=10, max=500, step=10, value=100),\n",
    "    n_input = IntSlider(min=1, max=(dataset.data.shape[0]-1), value=40),\n",
    "    n_hidden = IntSlider(min=1, max=40, value=10), \n",
    "    hidden_learning_rate = FloatSlider(min=0.01, max=0.3, value=0.1),\n",
    "    output_learning_rate = FloatSlider(min=0.01, max=0.3, value=0.1),\n",
    "    momentum_learning_rate = FloatSlider(min=0.5, max=0.99, value=0.9),         \n",
    "    test_size=FloatSlider(min=0.1, max=0.5, value=0.2))"
   ]
  },
  {
   "cell_type": "markdown",
   "metadata": {},
   "source": [
    "Use the network to classify test images."
   ]
  },
  {
   "cell_type": "code",
   "execution_count": 17,
   "metadata": {
    "collapsed": false
   },
   "outputs": [
    {
     "data": {
      "image/png": "[encoded data removed]",
      "text/plain": [
       "<matplotlib.figure.Figure at 0x10ddce590>"
      ]
     },
     "metadata": {},
     "output_type": "display_data"
    }
   ],
   "source": [
    "def plot_classification(n):\n",
    "    net = trained_nets['net']\n",
    "    f, axs = plt.subplots(1,2)\n",
    "    axs[0].imshow(dataset.images[n],cmap='gray')\n",
    "    axs[0].set_title('Id = %d, Target = %d' % (dataset.target[n], net.targets[n]))\n",
    "    axs[0].axis('off')\n",
    "    \n",
    "    prediction, reconstruction = net.predict(n)\n",
    "    axs[1].imshow(reconstruction.reshape(dataset.images.shape[1:]),cmap='gray')\n",
    "    axs[1].set_title('Predicted = %d' % prediction)\n",
    "    axs[1].axis('off')\n",
    "\n",
    "interact(plot_classification, n=IntSliderWidget(max=dataset.images.shape[0]-1))"
   ]
  }
 ],
 "metadata": {
  "celltoolbar": "Slideshow",
  "kernelspec": {
   "display_name": "Python 2",
   "language": "python",
   "name": "python2"
  },
  "language_info": {
   "codemirror_mode": {
    "name": "ipython",
    "version": 2
   },
   "file_extension": ".py",
   "mimetype": "text/x-python",
   "name": "python",
   "nbconvert_exporter": "python",
   "pygments_lexer": "ipython2",
   "version": "2.7.9"
  }
 },
 "nbformat": 4,
 "nbformat_minor": 0
}
