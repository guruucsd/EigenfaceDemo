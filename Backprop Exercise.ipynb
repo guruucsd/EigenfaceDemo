{
 "cells": [
  {
   "cell_type": "code",
   "execution_count": 88,
   "metadata": {
    "collapsed": false,
    "slideshow": {
     "slide_type": "skip"
    }
   },
   "outputs": [
    {
     "name": "stdout",
     "output_type": "stream",
     "text": [
      "The autoreload extension is already loaded. To reload it, use:\n",
      "  %reload_ext autoreload\n"
     ]
    }
   ],
   "source": [
    "%load_ext autoreload\n",
    "%autoreload 2\n",
    "%matplotlib inline\n",
    "\n",
    "from numpy import *\n",
    "from IPython.html.widgets import *\n",
    "from IPython.display import display\n",
    "import matplotlib.pyplot as plt\n",
    "from IPython.core.display import clear_output"
   ]
  },
  {
   "cell_type": "markdown",
   "metadata": {
    "slideshow": {
     "slide_type": "slide"
    }
   },
   "source": [
    "# Backpropagation Exercise\n",
    "\n",
    "In this exercise, we will implement the backpropagation algorithm to train a simple neural network with a single hidden layer.\n",
    "\n",
    "<img src=\"files/images/Backpropagation/diagram.png\" style=\"margin:auto; width: 330px;\"/>"
   ]
  },
  {
   "cell_type": "markdown",
   "metadata": {
    "slideshow": {
     "slide_type": "slide"
    }
   },
   "source": [
    "# What is backpropagation?\n",
    "\n",
    "Previously, we have derived the stochastic gradient decent rule for a single-layer network (perceptron).  (Error) backpropagation algorithm is a learning rule that lets us train feed-forward networks with more layers. \n",
    "\n",
    "## Notation\n",
    "\n",
    " * Input nodes: $ {\\bf x} = (x_1, x_2, ... x_i)$\n",
    " * Hidden nodes: $ {\\bf z} = (z_1, z_2, ... z_j)$\n",
    " * Output nodes: $ {\\bf y} = (y_1, y_2, ... y_k)$\n",
    "\n",
    "The input nodes are connected to the hidden nodes via weights $w^{(h)}_{ij}$, and hidden nodes to output nodes via $w^{(y)}_{jk}$."
   ]
  },
  {
   "cell_type": "markdown",
   "metadata": {
    "slideshow": {
     "slide_type": "subslide"
    }
   },
   "source": [
    "### 1. Forward propagation\n",
    "\n",
    "Given a particular input ${\\bf x}$, we calculate the value (or **activation**) of a particular hidden node $z_j$ by taking the weighted sum of the inputs with $w^{(h)}_{ij}$ and passing it through an **activation function** $\\sigma$:\n",
    "\n",
    "$$ z_j = \\sigma \\left( \\sum_i x_i w^{(h)}_{ij} \\right)$$\n",
    "\n",
    "The activation function is a *nonlinear* function.  A popular choice is a sigmoid family, for instance what's called the \"funny tanh\" function:"
   ]
  },
  {
   "cell_type": "code",
   "execution_count": 89,
   "metadata": {
    "collapsed": false
   },
   "outputs": [
    {
     "data": {
      "image/png": "[encoded data removed]",
      "text/plain": [
       "<matplotlib.figure.Figure at 0x11305f310>"
      ]
     },
     "metadata": {},
     "output_type": "display_data"
    }
   ],
   "source": [
    "def funny_tanh(x):\n",
    "    return 1.7159 * tanh(x*2/3)\n",
    "\n",
    "xs=linspace(-3,3,100)\n",
    "plt.plot(xs,funny_tanh(xs)); plt.grid()"
   ]
  },
  {
   "cell_type": "markdown",
   "metadata": {
    "slideshow": {
     "slide_type": "subslide"
    }
   },
   "source": [
    "We use the \"funny tanh\" function, because (a) $f(\\pm 1) = \\pm 1$, (b) the second derivative is a maximum at $x=1$, and (c) the effective gain (change in the variance) is close to 1.  (LeCun, 2012)"
   ]
  },
  {
   "cell_type": "code",
   "execution_count": 90,
   "metadata": {
    "collapsed": false
   },
   "outputs": [
    {
     "name": "stdout",
     "output_type": "stream",
     "text": [
      "X.std() is 0.999722\n",
      "tanh(X).std() is 0.628591\n",
      "funny_tanh(X).std() is 0.866664\n"
     ]
    }
   ],
   "source": [
    "from numpy.random import standard_normal\n",
    "X=standard_normal(10000)\n",
    "print(\"X.std() is %f\" % X.std()) # should be close to 1\n",
    "print(\"tanh(X).std() is %f\" % tanh(X).std())\n",
    "print(\"funny_tanh(X).std() is %f\" % funny_tanh(X).std())"
   ]
  },
  {
   "cell_type": "markdown",
   "metadata": {
    "slideshow": {
     "slide_type": "subslide"
    }
   },
   "source": [
    "We can calculate all values of the hidden nodes at once using the vector notation:\n",
    "\n",
    "$$ {\\bf z} = \\sigma( {\\bf x} \\cdot W^{(h)} ) $$\n",
    "\n",
    "And, similarly, the values of the output nodes are calculated as\n",
    "\n",
    "$$ {\\bf y} = \\sigma( {\\bf z} \\cdot W^{(o)} ) $$\n",
    "\n",
    "You can do the vector-matrix multiplication in `numpy` using the `dot` function, e.g. `dot(x, Wh)`.\n",
    "\n",
    "This is called the **forward propagation** phase."
   ]
  },
  {
   "cell_type": "markdown",
   "metadata": {
    "slideshow": {
     "slide_type": "subslide"
    }
   },
   "source": [
    "Exercise 1. Implement the feed-forward calculation.  Use `tanh` as the activation function $\\sigma()$.\n",
    "\n",
    "$$ {\\bf z} = \\sigma( {\\bf x} \\cdot W^{(h)} ) \\\\ {\\bf y} = \\sigma( {\\bf z} \\cdot W^{(o)} )$$"
   ]
  },
  {
   "cell_type": "code",
   "execution_count": 91,
   "metadata": {
    "collapsed": false,
    "slideshow": {
     "slide_type": "notes"
    }
   },
   "outputs": [],
   "source": [
    "def with_bias(x):\n",
    "    return c_[x, ones((x.shape[0], 1))]\n",
    "\n",
    "def feed_forward(x, Wh, Wo, activation_function=funny_tanh):\n",
    "    \"\"\"Calculates the activations for the hidden and output nodes.\n",
    "    \n",
    "    inputs:\n",
    "        x: N x I matrix, where each row is a particular observation.\n",
    "        Wh: I x J matrix of hidden weights.\n",
    "        Wo: J x K matrix of output weights.\n",
    "        activation_function: the activation function to use.\n",
    "    \n",
    "    returns:\n",
    "        z: N x J matrix of hidden activations.\n",
    "        y: N x K matrix of output activations.\n",
    "    \"\"\"\n",
    "    z = activation_function(dot(with_bias(x), Wh))\n",
    "    y = activation_function(dot(with_bias(z), Wo))\n",
    "    return z, y\n"
   ]
  },
  {
   "cell_type": "markdown",
   "metadata": {
    "slideshow": {
     "slide_type": "slide"
    }
   },
   "source": [
    "### 2. Backward propagation\n",
    "\n",
    "We then calculate \"errors\" associated with each node in the network.  This is called the **backward propagation** phase.\n",
    " \n",
    "As was in the perceptron, the goal of the training is to change the weights $W^{(h)}, W^{(o)}$ so that the current output ${\\bf y}$ will be closer to the target values ${\\bf t}$.  For the squared error loss, we have\n",
    "\n",
    "$$ E = \\frac{1}{2} ({\\bf t} - {\\bf y})^\\intercal ({\\bf t} - {\\bf y}) $$\n",
    "\n",
    "We consider the \"errors\" associated with each unit, which is the negative of the partial derivative of the error with respect to the activations: [TODO: these aren't exactly matching what's in the code, need to be FIXED]\n",
    "\n",
    " * For the output unit $y_k$, we define the \"error\" as $\\delta^{(o)}_k = t_k - y_k$.\n",
    " * For the hidden unit $z_j$, we define the \"error\" as $\\delta^{(h)}_j = \\sigma' ({\\bf x \\cdot W^{(h)}}) \\sum_k w^{(o)}_{jk} \\delta^{(o)}_k$."
   ]
  },
  {
   "cell_type": "markdown",
   "metadata": {
    "slideshow": {
     "slide_type": "subslide"
    }
   },
   "source": [
    "It looks a bit hairy, but it's conceptually simple:\n",
    "\n",
    " * For the output units, the error is positive (and proportional to) how much my prediction $y_k$ overshot the target $t_k$.\n",
    " * For the hidden units, the error is a *sum* of all the output unit errors it's connected to (*not* the input units).  \n",
    " \n",
    "The delta of the hidden units are also multiplied by the derivative of the activation function (i.e. the slope of the activation function), because the \"errors\" (the $\\delta$s) are actually partial derivatives of the loss function with respect to the weights.\n",
    "\n",
    "<img src=\"files/images/Backpropagation/diagram2.png\" style=\"margin:auto; width: 300px;\"/>"
   ]
  },
  {
   "cell_type": "markdown",
   "metadata": {
    "slideshow": {
     "slide_type": "subslide"
    }
   },
   "source": [
    "Exercise 2: implement the routine to calculate the errors (deltas).  [TODO: fix these]\n",
    "\n",
    "$$\n",
    "    \\delta^{(o)} = \\underbrace{y - t}_{N \\times K} \\\\\n",
    "    \\delta^{(h)} = \\underbrace{\\sigma' ({\\bf x \\cdot W^{(h)}})}_{N \\times J} \\times \\underbrace{(\\delta^{(o)} \\cdot W^{(o)\\intercal})}_{N \\times J}\n",
    "$$\n",
    "\n",
    "Here, I've used the $\\times$ symbol to denote the element-wise multiplication, which can be done by using the `multiply` function in NumPy."
   ]
  },
  {
   "cell_type": "code",
   "execution_count": 95,
   "metadata": {
    "collapsed": false,
    "slideshow": {
     "slide_type": "skip"
    }
   },
   "outputs": [],
   "source": [
    "# Sample solution:\n",
    "def approximate_derivative(f, x):\n",
    "    \"\"\"Return the (first-order) approximation of the derivative of f at x.\"\"\"\n",
    "    epsilon=1e-8\n",
    "    return (f(x+epsilon) - f(x)) / epsilon\n",
    "\n",
    "def calculate_deltas(error, z, x, Wh, Wo, activation_function=funny_tanh):\n",
    "    \"\"\"Calculates the delta values for the output and hidden nodes.\n",
    "    \n",
    "    inputs:\n",
    "        error: N x K matrix of errors.\n",
    "        z: N x J matrix of hidden activations.\n",
    "        x: N x I matrix, where each row is a particular observation.\n",
    "        Wh: I x J matrix of hidden weights.\n",
    "        Wo: J x K matrix of output weights.\n",
    "        activation_function: the activation function to use.\n",
    "    \n",
    "    returns:\n",
    "        dh: N x J matrix of deltas for the hidden nodes.\n",
    "        do: N x K matrix of deltas for the output nodes.\n",
    "    \"\"\"\n",
    "    do = multiply(approximate_derivative(activation_function, y), error)\n",
    "    # TODO fix the treatment of the bias weight\n",
    "    dh = multiply(approximate_derivative(activation_function, z), dot(do, Wo[:-1].T))\n",
    "    return dh, do"
   ]
  },
  {
   "cell_type": "markdown",
   "metadata": {
    "slideshow": {
     "slide_type": "slide"
    }
   },
   "source": [
    "### 3. Weight update phase\n",
    "\n",
    "After calculating all $\\delta_k$ and $\\delta_j$s, we update the weights using the stochastic gradient rule:\n",
    "\n",
    "$$\n",
    " w^{(o)}_{jk} \\leftarrow w^{(o)}_{jk} + \\eta z_j \\delta^{(o)}_k \\\\\n",
    " w^{(h)}_{ij} \\leftarrow w^{(h)}_{ij} + \\eta x_i \\delta^{(h)}_j \\\\\n",
    "$$\n",
    "\n",
    "Note that the amount the weight changes is also modulated by the activation of the node: if a node had a large activation, weights associated with it is changed by a large amount, too. "
   ]
  },
  {
   "cell_type": "markdown",
   "metadata": {
    "slideshow": {
     "slide_type": "subslide"
    }
   },
   "source": [
    "Exercise 3. Implement the routine to update the weights.\n",
    "\n",
    "We can do the updates one sample observation $x_i$ at a time (online learning), or just use the average of the delta values (batch learning). For the batch learning, the update rule would be:\n",
    "\n",
    "$$\n",
    " \\underbrace{W^{(o)}}_{J \\times K} \\leftarrow W^{(o)} +  \\frac{\\eta}{N} \\cdot \\underbrace{{\\bf z}^\\intercal}_{K \\times N} \\cdot \\underbrace{\\delta^{(o)}}_{N \\times K}  \\\\\n",
    " \\underbrace{W^{(h)}}_{I \\times J} \\leftarrow W^{(h)} + \\frac{\\eta}{N} \\cdot \\underbrace{{\\bf x}^\\intercal}_{I \\times N} \\cdot \\underbrace{\\delta^{(h)}}_{N \\times J} \\\\\n",
    "$$"
   ]
  },
  {
   "cell_type": "code",
   "execution_count": 96,
   "metadata": {
    "collapsed": false,
    "slideshow": {
     "slide_type": "skip"
    }
   },
   "outputs": [],
   "source": [
    "def update_weights(Wh, Wo, z, do, x, dh, eta = 0.1):\n",
    "    \"\"\"Updates the hidden and output weights and return them.\n",
    "    \n",
    "    inputs:\n",
    "        Wh: I x J matrix of hidden weights.\n",
    "        Wo: J x K matrix of output weights.\n",
    "        z: N x J matrix of hidden activations.\n",
    "        do: N x K matrix of deltas for the output nodes.\n",
    "        x: N x I matrix, where each row is a particular observation.\n",
    "        dh: N x J matrix of deltas for the hidden nodes.\n",
    "        eta: the learning rate to use.\n",
    "    \n",
    "    returns:\n",
    "        updated Wh and Wo.\n",
    "    \"\"\"\n",
    "    N = x.shape[0]\n",
    "    Wo = Wo + eta / N * dot(with_bias(z).T, do)\n",
    "    Wh = Wh + eta / N * dot(with_bias(x).T, dh)\n",
    "    return Wh, Wo "
   ]
  },
  {
   "cell_type": "markdown",
   "metadata": {
    "slideshow": {
     "slide_type": "slide"
    }
   },
   "source": [
    "### Putting them all together\n",
    "\n",
    "Now we just need to put them together and update the weight matrices until we get the desired performance out of the network."
   ]
  },
  {
   "cell_type": "code",
   "execution_count": null,
   "metadata": {
    "collapsed": true
   },
   "outputs": [],
   "source": [
    "def bp_update_weights(Wh, Wo, x, t, activation_function=funny_tanh, eta=0.1):\n",
    "    \"\"\"Updates Wh, Wo and returns them from the traning set x and targets t.\"\"\"\n",
    "    z, y = feed_forward(x, Wh, Wo, activation_function=activation_function)\n",
    "    dh, do = calculate_deltas(t-y, z, x, Wh, Wo, activation_function=activation_function)\n",
    "    Wh, Wo = update_weights(Wh, Wo, z, do, x, dh, eta = eta)\n",
    "    return Wh, z, Wo, y"
   ]
  },
  {
   "cell_type": "code",
   "execution_count": null,
   "metadata": {
    "collapsed": false,
    "slideshow": {
     "slide_type": "skip"
    }
   },
   "outputs": [],
   "source": [
    "# Function to plot the network\n",
    "def plot_nn(x, Wh, z, Wo, y):\n",
    "    fig, ax = plt.subplots() \n",
    "    cmap = plt.get_cmap('RdBu')\n",
    "    for i, x_ in enumerate(x.T):\n",
    "        ax.add_artist(plt.Circle((1, -i-1), 0.25, ec='k', fc=cmap(x_[0]/2+.5)))\n",
    "    \n",
    "    for i, wi in enumerate(Wh):\n",
    "        for j, w_ in enumerate(wi):\n",
    "            ax.add_artist(plt.arrow(1.3, -i-1, 1.3, (i-j)*.9, head_width=0.05, head_length=0.1, ec=cmap(w_/2+.5)))\n",
    "\n",
    "    for i, z_ in enumerate(z.T):\n",
    "        ax.add_artist(plt.Circle((3, -i-1), 0.25, ec='k', fc=cmap(z_[0]/2+.5)))\n",
    "        \n",
    "    for i, wi in enumerate(Wo):\n",
    "        for j, w_ in enumerate(wi):\n",
    "            ax.add_artist(plt.arrow(3.3, -i-1, 1.3, (i-j)*.9, head_width=0.05, head_length=0.1, ec=cmap(w_/2+.5)))\n",
    "        \n",
    "    for i, y_ in enumerate(y.T):\n",
    "        ax.add_artist(plt.Circle((5, -i-1), 0.25, ec='k', fc=cmap(y_[0]/2+.5)))\n",
    "        \n",
    "    m = max(x.shape + z.shape + y.shape)\n",
    "    ax.set_xlim([0, 6])\n",
    "    ax.set_ylim([-m-1,0])\n",
    "    ax.set_aspect('equal')\n",
    "    ax.axis('off')\n",
    "plot_nn(array([[1.0,-1,1]]), -ones((3,3)), ones((1,3)), ones((3, 2)), zeros((1,2)))"
   ]
  },
  {
   "cell_type": "markdown",
   "metadata": {
    "slideshow": {
     "slide_type": "subslide"
    }
   },
   "source": [
    "Let's try training it to recognize the \"XOR\" pattern, and watch how it modifies the weights."
   ]
  },
  {
   "cell_type": "code",
   "execution_count": null,
   "metadata": {
    "collapsed": false
   },
   "outputs": [],
   "source": [
    "X=array([\n",
    "    [ 1,-1],\n",
    "    [-1, 1],\n",
    "    [ 1, 1],\n",
    "    [-1,-1]], dtype=float)\n",
    "T=array([\n",
    "    [ 1],\n",
    "    [ 1],\n",
    "    [-1],\n",
    "    [-1]], dtype=float)\n",
    "\n",
    "# Initialize weights\n",
    "J = 2 # Number of hidden units\n",
    "from numpy.random import random_sample\n",
    "Wh = random_sample((X.shape[1] + 1, J))\n",
    "Wo = random_sample((J + 1, T.shape[1]))\n",
    "epoch = 0\n",
    "\n",
    "def update_and_plot():\n",
    "    global X, T, epoch, Wh, Wo\n",
    "    # Train one example at a time (online learning)\n",
    "    x = X[epoch % X.shape[0],newaxis]\n",
    "    t = T[epoch % T.shape[0],newaxis]\n",
    "    print('x=' + str(x))\n",
    "    print('t=' + str(t))\n",
    "    Wh, z, Wo, y = bp_update_weights(Wh, Wo, x, t, eta=0.9) \n",
    "    print('y=' + str(y))\n",
    "    plot_nn(x, Wh, z, Wo, y)\n",
    "    epoch += 1\n",
    "\n",
    "interact_manual(update_and_plot)"
   ]
  },
  {
   "cell_type": "code",
   "execution_count": null,
   "metadata": {
    "collapsed": false
   },
   "outputs": [],
   "source": [
    "# Train for some number of epochs and plot the errors.\n",
    "J = 2 # Number of hidden units\n",
    "from numpy.random import random_sample\n",
    "Wh = random_sample((X.shape[1] , J))\n",
    "Wo = random_sample((J + 1, T.shape[1]))\n",
    "\n",
    "epochs=1000\n",
    "rmse=zeros(epochs)\n",
    "cerr=zeros(epochs)\n",
    "for epoch in range(epochs):\n",
    "    Wh, z, Wo, y = bp_update_weights(Wh, Wo, X, T)\n",
    "    z, y = feed_forward(X, Wh, Wo)\n",
    "    errors = T - y\n",
    "    rmse[epoch] = sqrt((errors**2).mean())  # RMSE\n",
    "    cerr[epoch] = (sign(T) != sign(y)).mean()\n",
    "\n",
    "fig, axs = plt.subplots(1,2)\n",
    "axs[0].plot(rmse)\n",
    "axs[1].plot(cerr)"
   ]
  },
  {
   "cell_type": "markdown",
   "metadata": {
    "collapsed": true
   },
   "source": [
    "We will then test it on the face data."
   ]
  },
  {
   "cell_type": "code",
   "execution_count": null,
   "metadata": {
    "collapsed": true
   },
   "outputs": [],
   "source": [
    "import pickle\n",
    "dataset = pickle.load(open('data/cafe.pkl','r'))\n",
    "\n",
    "from sklearn.decomposition import PCA\n",
    "from sklearn.cross_validation import train_test_split\n",
    "\n",
    "def train(X, t, epochs = 100, n_input = 10, n_hidden = 40, \n",
    "        hidden_learning_rate = 0.1, output_learning_rate = 0.1, momentum_learning_rate = 0.9,          \n",
    "        test_size=0.2, cv=3):\n",
    "    \"\"\"Initialize the network and start training.\"\"\"\n",
    "\n",
    "    # Initialize variables\n",
    "    n_output = len(unique(t))\n",
    "    Vh = zeros((n_input + 1, n_hidden))\n",
    "    Wh = random_sample(Vh.shape)\n",
    "    Vo = zeros((n_hidden + 1, n_output))\n",
    "    Wo = random_sample(Vo.shape)\n",
    "\n",
    "    # Convert to binary\n",
    "    tb = ones((X.shape[0], n_output))*(-1.0)\n",
    "    tb[arange(tb.shape[0]), t-1]=1.0\n",
    "    \n",
    "    # Split\n",
    "    X_train, X_test, tb_train, tb_test = train_test_split(X, tb, test_size=test_size, random_state=0)\n",
    "\n",
    "    # Preprocess the data using PCA\n",
    "    pca = PCA(n_components = n_input, whiten=True, copy=True)\n",
    "    Xw_train = pca.fit_transform(X_train)\n",
    "    Xw_test = pca.transform(X_test)\n",
    "\n",
    "    # Start the training\n",
    "    rmse=zeros((epochs,2))\n",
    "    cerr=zeros((epochs,2))\n",
    "    for epoch in arange(epochs):\n",
    "\n",
    "        # Test then Train, since we'll use the training errors\n",
    "        for i, (Xw, tb_) in enumerate([[Xw_test, tb_test], [Xw_train, tb_train]]):\n",
    "            z, y = feed_forward(Xw, Wh, Wo)\n",
    "            errors = tb_ - y\n",
    "            rmse[epoch, i] = sqrt((errors**2).mean())  # RMSE\n",
    "            cerr[epoch, i] = (argmax(tb_,axis=1) != argmax(y,axis=1)).mean()\n",
    "\n",
    "        yield rmse, cerr, epoch, epochs\n",
    "\n",
    "        # Update weights using backpropagation\n",
    "        Wh, z, Wo, y = bp_update_weights(Wh, Wo, Xw_train, tb_train)  # Note they come from the training data!\n",
    "\n",
    "def plot_training(axs, rmse, cerr, t, epochs):\n",
    "    \"\"\"Draw the plot to the specified axis.\"\"\"\n",
    "    axs[0].set_title(\"RMSE\")\n",
    "    axs[0].set_xlabel(\"Training epoch\")\n",
    "    axs[0].set_ylabel(\"RMSE\")\n",
    "    axs[0].grid()\n",
    "\n",
    "    axs[0].plot(arange(t), rmse[:t])\n",
    "    axs[0].set_xlim([0, epochs])\n",
    "    axs[0].set_ylim([0, 2.0])\n",
    "    axs[0].legend(['Test', 'Training'], loc=\"best\")\n",
    "\n",
    "    axs[1].set_title(\"Classification Error\")\n",
    "    axs[1].set_xlabel(\"Training epoch\")\n",
    "    axs[1].set_ylabel(\"Classification Error Rate [\\%]\")\n",
    "    axs[1].grid()\n",
    "\n",
    "    axs[1].plot(arange(t), cerr[:t]*100.0)\n",
    "    axs[1].set_xlim([0, epochs])\n",
    "    axs[1].set_ylim([0, 100.0])\n",
    "    axs[1].legend(['Test', 'Training'], loc=\"best\")\n",
    "\n",
    "def train_network(dataset, target_name, **kwargs):\n",
    "    X = dataset.data\n",
    "    t = dataset[target_name]\n",
    "    fig, axs = plt.subplots(1,2,figsize=(10,5))\n",
    "    for rmse, cerr, epoch, epochs in train(X, t, **kwargs):\n",
    "        if mod(epoch, 10) != 0:\n",
    "            continue\n",
    "\n",
    "        plot_training(axs, rmse, cerr, epoch, epochs)\n",
    "        clear_output(wait=True)\n",
    "        display(fig)\n",
    "        axs[0].cla()\n",
    "        axs[1].cla()\n",
    "\n",
    "    plt.close()\n",
    "    plot_training(axs, rmse, cerr, epoch, epochs)\n",
    "    clear_output(wait=True)\n",
    "    display(fig)"
   ]
  },
  {
   "cell_type": "code",
   "execution_count": null,
   "metadata": {
    "collapsed": false
   },
   "outputs": [],
   "source": [
    "interact_manual(train_network,\n",
    "    dataset=fixed(dataset),\n",
    "    target_name={'Identity': 'target', 'Gender': 'gender', 'Expression': 'expression'},\n",
    "    epochs= IntSlider(min=10, max=500, step=10, value=100),\n",
    "    n_input = IntSlider(min=1, max=(dataset.data.shape[0]-1), value=40),\n",
    "    n_hidden = IntSlider(min=1, max=40, value=10), \n",
    "    hidden_learning_rate = FloatSlider(min=0.01, max=0.3, value=0.1),\n",
    "    output_learning_rate = FloatSlider(min=0.01, max=0.3, value=0.1),\n",
    "    momentum_learning_rate = FloatSlider(min=0.5, max=0.99, value=0.9),         \n",
    "    test_size=FloatSlider(min=0.1, max=0.5, value=0.2))"
   ]
  },
  {
   "cell_type": "code",
   "execution_count": null,
   "metadata": {
    "collapsed": true
   },
   "outputs": [],
   "source": []
  }
 ],
 "metadata": {
  "celltoolbar": "Slideshow",
  "kernelspec": {
   "display_name": "Python 2",
   "language": "python",
   "name": "python2"
  },
  "language_info": {
   "codemirror_mode": {
    "name": "ipython",
    "version": 2
   },
   "file_extension": ".py",
   "mimetype": "text/x-python",
   "name": "python",
   "nbconvert_exporter": "python",
   "pygments_lexer": "ipython2",
   "version": "2.7.9"
  }
 },
 "nbformat": 4,
 "nbformat_minor": 0
}
