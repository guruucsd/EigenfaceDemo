{
 "cells": [
  {
   "cell_type": "code",
   "execution_count": 1,
   "metadata": {
    "collapsed": false,
    "slideshow": {
     "slide_type": "skip"
    }
   },
   "outputs": [
    {
     "name": "stderr",
     "output_type": "stream",
     "text": [
      ":0: FutureWarning: IPython widgets are experimental and may change in the future.\n"
     ]
    }
   ],
   "source": [
    "%load_ext autoreload\n",
    "%autoreload 2\n",
    "%matplotlib inline\n",
    "\n",
    "from numpy import *\n",
    "from IPython.html.widgets import *\n",
    "from IPython.display import display\n",
    "import matplotlib.pyplot as plt\n",
    "from IPython.core.display import clear_output"
   ]
  },
  {
   "cell_type": "markdown",
   "metadata": {
    "slideshow": {
     "slide_type": "slide"
    }
   },
   "source": [
    "# Backpropagation Exercise\n",
    "\n",
    "Let's implement the backpropagation algorithm to train a simple neural network with a single hidden layer.\n",
    "\n",
    "<img src=\"files/images/Backpropagation/diagram.png\" style=\"margin:auto; width: 330px;\"/>"
   ]
  },
  {
   "cell_type": "markdown",
   "metadata": {
    "slideshow": {
     "slide_type": "slide"
    }
   },
   "source": [
    "# What is backpropagation?\n",
    "\n",
    "Previously,the stochastic gradient decent rule for training perceptrons was derived, which can be thought of as a single-layer (linear) neural network.  The backpropagation algorithm is a learning rule that lets us train feed-forward networks with more layers. \n",
    "\n",
    "Let's start with the derivation for a 3-layer network.\n",
    "\n",
    "## Notation\n",
    "\n",
    " * Input nodes: $ {\\bf x} = (x_1, x_2, ... x_i)$\n",
    " * Hidden nodes: $ {\\bf z} = (z_1, z_2, ... z_j)$\n",
    " * Output nodes: $ {\\bf y} = (y_1, y_2, ... y_k)$\n",
    "\n",
    "The input nodes are connected to the hidden nodes via weights $w^{(h)}_{ij}$, and hidden nodes to output nodes via $w^{(y)}_{jk}$."
   ]
  },
  {
   "cell_type": "markdown",
   "metadata": {
    "slideshow": {
     "slide_type": "subslide"
    }
   },
   "source": [
    "### 1. Forward propagation\n",
    "\n",
    "Given a particular input ${\\bf x}$, we calculate the value (or **activation**) of a particular hidden node $z_j$ by taking the weighted sum of the inputs with $w^{(h)}_{ij}$ and passing it through an **activation function** $\\sigma$:\n",
    "\n",
    "$$ z_j = \\sigma \\left( w^{(h)}_{0j} + \\sum_i x_i w^{(h)}_{ij} \\right)$$\n",
    "\n",
    "We want to use an activation function that is *nonlinear* (if it was a linear function, multi-layer network will not give us any more modeling power than a linear perceptron). The following is an example activation function that contracts the input to the $(-1, 1)$ range (*sigmoid*):"
   ]
  },
  {
   "cell_type": "code",
   "execution_count": 2,
   "metadata": {
    "collapsed": false
   },
   "outputs": [
    {
     "data": {
      "image/png": "[encoded data removed]",
      "text/plain": [
       "<matplotlib.figure.Figure at 0x107724e10>"
      ]
     },
     "metadata": {},
     "output_type": "display_data"
    }
   ],
   "source": [
    "xs=linspace(-3,3,100)\n",
    "plt.plot(xs,tanh(xs)); plt.grid()"
   ]
  },
  {
   "cell_type": "code",
   "execution_count": 3,
   "metadata": {
    "collapsed": false,
    "slideshow": {
     "slide_type": "skip"
    }
   },
   "outputs": [
    {
     "data": {
      "image/png": "[encoded data removed]",
      "text/plain": [
       "<matplotlib.figure.Figure at 0x107d17810>"
      ]
     },
     "metadata": {},
     "output_type": "display_data"
    }
   ],
   "source": [
    "def funny_tanh(x):\n",
    "    return 1.7159 * tanh(x*2/3) + 0.001 * x\n",
    "\n",
    "xs=linspace(-3,3,100)\n",
    "plt.plot(xs,funny_tanh(xs)); plt.grid()"
   ]
  },
  {
   "cell_type": "markdown",
   "metadata": {
    "slideshow": {
     "slide_type": "skip"
    }
   },
   "source": [
    "Note that we may want to use the \"funny tanh\" function instead, because (a) $f(\\pm 1) = \\pm 1$, (b) the second derivative is a maximum at $x=1$, and (c) the effective gain (change in the variance) is close to 1.  (LeCun, 2012). Here we see that the function indeed keeps the effective gain closer to 1, compared to a regular `tanh`:"
   ]
  },
  {
   "cell_type": "code",
   "execution_count": 4,
   "metadata": {
    "collapsed": false,
    "slideshow": {
     "slide_type": "skip"
    }
   },
   "outputs": [
    {
     "name": "stdout",
     "output_type": "stream",
     "text": [
      "X.std() is 1.003313\n",
      "tanh(X).std() is 0.629621\n",
      "funny_tanh(X).std() is 0.869852\n"
     ]
    }
   ],
   "source": [
    "from numpy.random import standard_normal\n",
    "X=standard_normal(10000)\n",
    "print(\"X.std() is %f\" % X.std()) # should be close to 1\n",
    "print(\"tanh(X).std() is %f\" % tanh(X).std())\n",
    "print(\"funny_tanh(X).std() is %f\" % funny_tanh(X).std())"
   ]
  },
  {
   "cell_type": "markdown",
   "metadata": {
    "slideshow": {
     "slide_type": "subslide"
    }
   },
   "source": [
    "Using the vector notation, we can calculate all values of the hidden nodes at once.  Given a $1 \\times (I+1)$ row vector of input nodes (for a particular sample) and $(I+1) \\times J$ weight matrix $W^{(h)}$,\n",
    "\n",
    "$$ {\\bf z} = \\sigma( {\\bf x} \\cdot W^{(h)} ) $$\n",
    "\n",
    "The vector ${\\bf x}$ has $I + 1$ elements (with the first element always $1$ and the rest being the input vector) in order to take care of the $w^{(h)}_{0j}$ term earlier.  This is called the **bias term**.\n",
    "\n",
    "Similarly, the values of the output nodes are calculated as\n",
    "\n",
    "$$ {\\bf y} = \\sigma( {\\bf z} \\cdot W^{(o)} ) $$\n",
    "\n",
    "Here, $W^{(o)}$ is a $(J + 1) \\times K$ matrix.\n",
    "\n",
    "By using the above equations, we can calcuate what the values of the hidden and output nodes should be for each input vector ${\\bf x}$. Since the values are propagated from the input to the output, this is called the **feed-foward calculation**.\n",
    "\n",
    "Note: we can perform the vector-matrix multiplication in `numpy` using the `dot` function, e.g. `dot(x, Wh)`.  Also, we can do the exact same thing for $N$ samples all at once by passing in $N \\times (I+1)$ matrix of input nodes using this operation."
   ]
  },
  {
   "cell_type": "markdown",
   "metadata": {
    "slideshow": {
     "slide_type": "subslide"
    }
   },
   "source": [
    "Exercise 1. Implement the feed-forward calculation.  Use the activation function $\\sigma()$ passed in as the `activation_function` parameter.\n",
    "\n",
    "For convenience (as we'll see later), let's also output the \"raw\" values ${\\hat {\\bf z}}$ and ${\\hat {\\bf y}}$, which are the activation values before it's passed onto the activation function:\n",
    "\n",
    "$$ {\\hat {\\bf z}} = {\\bf x} \\cdot W^{(h)} , \\quad {\\bf z} = \\sigma( {\\hat {\\bf z}}) \\\\ \n",
    "{\\hat {\\bf y}} =  {\\bf z} \\cdot W^{(o)} , \\quad {\\bf y} = \\sigma( {\\hat {\\bf y}} )$$"
   ]
  },
  {
   "cell_type": "code",
   "execution_count": 5,
   "metadata": {
    "collapsed": false,
    "slideshow": {
     "slide_type": "subslide"
    }
   },
   "outputs": [],
   "source": [
    "def with_bias(x):\n",
    "    return c_[ones((x.shape[0], 1)), x]\n",
    "\n",
    "def activations_for(x, Wh, Wo, activation_function=tanh):\n",
    "    \"\"\"Calculates the activations for the hidden and output nodes. (Feed-forward phase)\n",
    "    \n",
    "    inputs:\n",
    "        x: N x I matrix, where each row is a particular observation.\n",
    "        Wh: I+1 x J matrix of hidden weights.\n",
    "        Wo: J+1 x K matrix of output weights.\n",
    "        activation_function: the activation function to use.\n",
    "    \n",
    "    returns:\n",
    "        z: N x J matrix of hidden activations.\n",
    "        y: N x K matrix of output activations.\n",
    "        z_raw: N x J matrix of \"raw\" hidden activations.    \n",
    "        y_raw: N x K matrix of \"raw\" output activations.\n",
    "    \"\"\"\n",
    "    z_raw = dot(with_bias(x), Wh)\n",
    "    z = activation_function(z_raw)\n",
    "    y_raw = dot(with_bias(z), Wo)\n",
    "    y = activation_function(y_raw)\n",
    "    return z, y, z_raw, y_raw"
   ]
  },
  {
   "cell_type": "markdown",
   "metadata": {
    "slideshow": {
     "slide_type": "slide"
    }
   },
   "source": [
    "### 2. Backward propagation\n",
    "\n",
    "We then calculate \"errors\" associated with each node in the network.  This is called the **backward propagation** phase.\n",
    " \n",
    "As was in the perceptron, the goal of the training is to change the weights $W^{(h)}, W^{(o)}$ so that the current output ${\\bf y}$ will be closer to the target values ${\\bf t}$.  For the squared error loss, we have\n",
    "\n",
    "$$ E = \\frac{1}{2} ({\\bf t} - {\\bf y})^\\intercal ({\\bf t} - {\\bf y}) = \\frac{1}{2} \\sum_{k=1}^{K} (t_k - y_k)^2 $$\n",
    "\n",
    "First, we want to consider how we should change the weights $w_{jk}^{(o)}$ in order to minimize the loss. To do this, let's write the partial derivative of $E$ with respect to a single weight $w_{jk}^{(o)}$. Note that this only depends on the output $y_k$, so the sum disappears:\n",
    "\n",
    "$$ \\frac{\\partial E}{\\partial w_{jk}^{(o)}} = \\frac{1}{2} \\cdot \\frac{\\partial (t_k - y_k)^2}{\\partial w_{jk}^{(o)}} = (t_k-y_k) \\frac{\\partial (t_k-y_k)} {\\partial w_{jk}^{(o)}} \\\\\n",
    "= (y_k - t_k) \\frac{\\partial y_k}{\\partial w_{jk}^{(o)}} = (y_k - t_k) \\sigma'({\\hat y}_k) \\frac{\\partial {\\hat y}_k} {\\partial w_{jk}^{(o)}} \\\\\n",
    "= \\underbrace{(y_k - t_k) \\sigma'({\\hat y}_k)}_{\\delta^{(o)}_k}  \\cdot z_j = \\delta^{(o)}_k z_j\n",
    "$$\n",
    "\n",
    "So, the partial derivative has been broken down to the \"error\" term $\\delta^{(o)}_k = \\partial E / \\partial {\\hat y}_k$ that depends on the output node $k$ and the hidden node activation $z_j$.  Again, we can concisely express all partial calculations for $W^{(o)}$ using the matrix form:\n",
    "\n",
    "$$ \\frac{\\partial E}{\\partial W^{(o)}} =  {\\bf z}^\\intercal \\cdot \\delta^{(o)}, \\quad \\delta^{(o)} = ({\\bf y} - {\\bf t}) \\times \\sigma'({\\hat {\\bf y}})  $$\n",
    "\n",
    "Here, $\\times$ is the element-wise multiplication, yielding $1 \\times K$ vector $\\delta^{(o)}$."
   ]
  },
  {
   "cell_type": "markdown",
   "metadata": {
    "slideshow": {
     "slide_type": "subslide"
    }
   },
   "source": [
    "We can do the same thing for the hidden weights $w_{ij}^{(h)}$. Note that, now, the value of the hidden node $z_j$ does depend on all outputs $y_k$:\n",
    "\n",
    "$$ \\frac{\\partial E}{\\partial w_{ij}^{(h)}} = \\sum_{k=1}^K \\left( \\frac{\\partial E}{\\partial {\\hat y}_k} \\cdot \\frac{\\partial {\\hat y}_k}{\\partial z_j} \\right) \\frac{\\partial z_j}{\\partial w_{ij}^{(h)}} \\\\\n",
    "= \\sum_{k=1}^K \\left( \\delta^{(o)}_k w^{(o)}_{jk} \\right) \\cdot \\sigma'({\\hat z}_j) \\cdot x_i\n",
    "$$\n",
    "\n",
    "$$\n",
    "\\frac{\\partial E}{\\partial W^{(h)}} =  {\\bf x}^\\intercal \\cdot \\delta^{(h)}, \\quad \\delta^{(h)} = ({\\hat W}^{(o)} \\cdot \\delta^{(o)})^\\intercal \\times \\sigma' ({\\hat {\\bf z}}) \n",
    "$$\n",
    "\n",
    "Here, ${\\hat W}^{(o)}$ is the $J \\times K$ submatrix of $W^{(o)}$ without the entries corresponding to the bias term."
   ]
  },
  {
   "cell_type": "markdown",
   "metadata": {
    "slideshow": {
     "slide_type": "subslide"
    }
   },
   "source": [
    "It looks a bit hairy, but it's conceptually simple:\n",
    "\n",
    " * For the output units, the partial derivative is positive (and proportional to) how much my prediction $y_k$ overshot the target $t_k$.\n",
    " * For the hidden units, the error is a *sum* of all the output unit errors it's connected to (*not* the input units).  \n",
    " \n",
    "Operationally, we just need to calculate the $\\delta^{(o)}$ using the prediction errors and the raw output activations, then calculate $\\delta^{(h)}$ using the $\\delta^{(o)}$.  Since we calculate the delta values starting from the output nodes and then back, this is called the **backward error propagation**.\n",
    "\n",
    "The following diagram (taken from Bishop's PRML book) shows the flow of information in the forward propagation (blue arrows) and the backward propagation (red arrows).\n",
    "\n",
    "<img src=\"files/images/Backpropagation/diagram2.png\" style=\"margin:auto; width: 300px;\"/>"
   ]
  },
  {
   "cell_type": "markdown",
   "metadata": {
    "slideshow": {
     "slide_type": "subslide"
    }
   },
   "source": [
    "Exercise 2: implement the routine to calculate the delta values. Again, if you implemented the calculations correctly, it would be automatically extended to the calculation for all $N$ samples at once:\n",
    "\n",
    "$$\n",
    "    \\delta^{(o)} = \\underbrace{({\\bf y} - {\\bf t})}_{N \\times K} \\times \\underbrace{\\sigma'({\\hat {\\bf y}})}_{N \\times K} \\\\\n",
    "    \\delta^{(h)} = \\underbrace{(\\delta^{(o)} \\cdot {\\hat W}^{(o)\\intercal})}_{N \\times J} \\times \\underbrace{\\sigma' ({\\hat {\\bf z}})}_{N \\times J}\n",
    "$$\n"
   ]
  },
  {
   "cell_type": "code",
   "execution_count": 6,
   "metadata": {
    "collapsed": false,
    "slideshow": {
     "slide_type": "subslide"
    }
   },
   "outputs": [],
   "source": [
    "def approximate_derivative(f, x):\n",
    "    \"\"\"Return the (first-order) approximation of the derivative of f at x.\n",
    "    Of course, we can just use the symbolic derivatives for the activation_function too.\n",
    "    \"\"\"\n",
    "    epsilon=1e-8\n",
    "    return (f(x+epsilon) - f(x)) / epsilon\n",
    "\n",
    "def deltas_for(t, z, y, z_raw, y_raw, Wh, Wo, activation_function=tanh):\n",
    "    \"\"\"Calculates the delta values for the output and hidden nodes.\n",
    "    \n",
    "    inputs:\n",
    "        t: N x K matrix of target values.\n",
    "        For other parameters, see \"activations_for\" function.\n",
    "    \n",
    "    returns:\n",
    "        dh: N x J matrix of deltas for the hidden nodes.\n",
    "        do: N x K matrix of deltas for the output nodes.\n",
    "    \"\"\"\n",
    "    sigma_prime = lambda x: approximate_derivative(activation_function, x)  # derivative of the activation\n",
    "    do = multiply(y - t, sigma_prime(y_raw))\n",
    "    dh = multiply(dot(do, Wo[1:].T), sigma_prime(z_raw))\n",
    "    return dh, do"
   ]
  },
  {
   "cell_type": "markdown",
   "metadata": {
    "slideshow": {
     "slide_type": "slide"
    }
   },
   "source": [
    "### 3. Weight update phase\n",
    "\n",
    "With $\\delta^{(o)}$ and $\\delta^{(h)}$, we can update the weights  using stochastic gradient descent:\n",
    "\n",
    "$$\n",
    " W^{(o)} \\leftarrow W^{(o)} - \\eta \\frac{\\partial E}{\\partial W^{(o)}} = W^{(o)} - \\eta ({\\bf z}^\\intercal \\cdot \\delta^{(o)}) \\\\\n",
    " W^{(h)} \\leftarrow W^{(h)} - \\eta \\frac{\\partial E}{\\partial W^{(h)}} = W^{(h)} - \\eta ({\\bf x}^\\intercal \\cdot \\delta^{(h)})\n",
    "$$\n",
    "\n",
    "Note that the amount the weight changes is also modulated by the activation of the nodes connected below: if a node had a large activation, weights associated with it (in the forward propagation) is changed by a large amount, too. "
   ]
  },
  {
   "cell_type": "markdown",
   "metadata": {
    "slideshow": {
     "slide_type": "subslide"
    }
   },
   "source": [
    "Exercise 3. Implement the routine to update the weights using the gradient descent.\n",
    "\n",
    "We can do the updates one sample observation ${\\bf x}$ at a time (online learning), or just use the average of the delta values (batch learning). For the batch learning, the update rule would be:\n",
    "\n",
    "$$\n",
    " \\underbrace{W^{(o)}}_{(J+1) \\times K} \\leftarrow W^{(o)} - \\frac{\\eta}{N} \\left( \\underbrace{{\\bf z}^\\intercal}_{(J+1) \\times N} \\cdot \\underbrace{\\delta^{(o)}}_{N \\times K} \\right) \\\\\n",
    " \\underbrace{W^{(h)}}_{(I+1) \\times J} \\leftarrow W^{(h)} - \\frac{\\eta}{N} \\left( \\underbrace{{\\bf x}^\\intercal}_{(I+1) \\times N} \\cdot \\underbrace{\\delta^{(h)}}_{N \\times J} \\right) \\\\\n",
    "$$"
   ]
  },
  {
   "cell_type": "code",
   "execution_count": 7,
   "metadata": {
    "collapsed": false,
    "slideshow": {
     "slide_type": "subslide"
    }
   },
   "outputs": [],
   "source": [
    "def gradient_descent(do, dh, x, z, Wh, Wo, eta = 0.1):\n",
    "    \"\"\"Updates the hidden and output weights using gradient descent and return them.\n",
    "    \n",
    "    inputs:\n",
    "        do: N x K matrix of deltas for the output nodes.\n",
    "        dh: N x J matrix of deltas for the hidden nodes.\n",
    "        x, z, Wo: see \"activations_for\".\n",
    "        eta: the learning rate to use.\n",
    "    \n",
    "    returns:\n",
    "        updated Wh and Wo.\n",
    "    \"\"\"\n",
    "    N = x.shape[0]\n",
    "    Wh -= eta / N * dot(with_bias(x).T, dh)\n",
    "    Wo -= eta / N * dot(with_bias(z).T, do)\n",
    "    return Wh, Wo"
   ]
  },
  {
   "cell_type": "markdown",
   "metadata": {
    "slideshow": {
     "slide_type": "slide"
    }
   },
   "source": [
    "### Putting them all together\n",
    "\n",
    "Now we just need to put them together and update the weight matrices."
   ]
  },
  {
   "cell_type": "code",
   "execution_count": 8,
   "metadata": {
    "collapsed": true
   },
   "outputs": [],
   "source": [
    "def update_weights(t, x, Wh, Wo, activation_function=tanh, eta=0.1):\n",
    "    \"\"\"Updates Wh, Wo and returns them from the traning set x and targets t.\n",
    "    \n",
    "    inputs:\n",
    "        x, Wh, Wo and t.\n",
    "    \n",
    "    returns:\n",
    "        updated Wh and Wo.\n",
    "    \"\"\"\n",
    "    z, y, z_raw, y_raw = activations_for(x, Wh, Wo, activation_function=activation_function)\n",
    "    dh, do = deltas_for(t, z, y, z_raw, y_raw, Wh, Wo, activation_function=activation_function)\n",
    "    return gradient_descent(do, dh, x, z, Wh, Wo, eta = eta)"
   ]
  },
  {
   "cell_type": "markdown",
   "metadata": {
    "slideshow": {
     "slide_type": "subslide"
    }
   },
   "source": [
    "And we will also initialize the weights using the standard Gaussian."
   ]
  },
  {
   "cell_type": "code",
   "execution_count": 9,
   "metadata": {
    "collapsed": true
   },
   "outputs": [],
   "source": [
    "from numpy.random import standard_normal\n",
    "def initialize_weights(I, J, K):\n",
    "    \"\"\"Generates initial hidden and output weights.\n",
    "    \n",
    "    inputs:\n",
    "        I: number of input units.\n",
    "        J: number of hidden units.\n",
    "        K: number of output units.\n",
    "    \n",
    "    returns:\n",
    "        Wh: (I+1) x J matrix\n",
    "        Wo: (J+1) x K matrix\n",
    "    \"\"\"\n",
    "    Wh = standard_normal((I + 1, J))\n",
    "    Wo = standard_normal((J + 1, K))\n",
    "    return Wh, Wo"
   ]
  },
  {
   "cell_type": "markdown",
   "metadata": {
    "slideshow": {
     "slide_type": "subslide"
    }
   },
   "source": [
    "We also want to keep track of the network training.  To do this, we evaluate both the per-sample average of the squared loss ($E$) and the classification error.  To calculate the latter, we first take the sign of the network outputs - these are the *predictions* of the network - and compare them to the target vector ${\\bf t}$.  For each sample, the binary error is simply the average of the number of outputs with the incorrect signs."
   ]
  },
  {
   "cell_type": "code",
   "execution_count": 10,
   "metadata": {
    "collapsed": true
   },
   "outputs": [],
   "source": [
    "def errors_for(t, y):\n",
    "    \"\"\"Make predictions using the network weights Wh, Wo and \n",
    "    compute the average squared loss and the binary loss.\n",
    "    \n",
    "    inputs:\n",
    "        t: N x I matrix of target values.\n",
    "        y: N x I matrix of output activations.\n",
    "    \n",
    "    returns:\n",
    "        mse: N x 1 vector of mean squared errors\n",
    "        mbe: N x 1 vector of mean binary errors\n",
    "    \"\"\"\n",
    "    mse = ((y-t)**2).mean()\n",
    "    mbe = (sign(y) != sign(t)).mean()\n",
    "    return mse, mbe"
   ]
  },
  {
   "cell_type": "code",
   "execution_count": 11,
   "metadata": {
    "collapsed": false,
    "slideshow": {
     "slide_type": "skip"
    }
   },
   "outputs": [
    {
     "data": {
      "image/png": "[encoded data removed]",
      "text/plain": [
       "<matplotlib.figure.Figure at 0x108f3e890>"
      ]
     },
     "metadata": {},
     "output_type": "display_data"
    }
   ],
   "source": [
    "\"\"\"Some plotting support functions.\"\"\"\n",
    "\n",
    "def plot_errors(ax, epoch, epochs, errors, ylabel='', ylim=1.0):\n",
    "    \"\"\"Plots the error graph.\"\"\"\n",
    "    ax.plot(arange(epoch), errors[:epoch])\n",
    "    ax.set_xlim([0, epochs])\n",
    "    ax.set_ylim([0, ylim])\n",
    "    ax.set_xlabel(\"Training epoch\")\n",
    "    ax.set_ylabel(ylabel)\n",
    "    ax.set_title(ylabel)\n",
    "    ax.grid()\n",
    "\n",
    "    \n",
    "def plot_network(ax, x, z, y, Wh, Wo):\n",
    "    \"\"\"Plots the graph representation of the network.\"\"\"\n",
    "    cmap = plt.get_cmap('RdBu')\n",
    "\n",
    "    for l, z in enumerate([x, z, y]):\n",
    "        for i, zi in enumerate(with_bias(z).T):\n",
    "            if l < 2 or i > 0: # Don't show bias node for the output layer\n",
    "                ax.add_artist(plt.Circle((1 + l*2, -i-1), 0.25, ec='k', fc=cmap(zi[0]/2+.5)))\n",
    "\n",
    "    for l, W in enumerate([Wh, Wo]):\n",
    "        for i, wi in enumerate(W):\n",
    "            for j, wij in enumerate(wi):\n",
    "                ax.arrow(1.3 + l*2, -i-1, 1.3, (i-j-1)*.9, head_width=0.05, head_length=0.1, ec=cmap(wij/2+.5), lw=abs(wij)*5.0)\n",
    "\n",
    "    m = max([x.shape[1], z.shape[1], y.shape[1]])+1\n",
    "    ax.set_xlim([0, 2*3])\n",
    "    ax.set_ylim([-m-1,0])\n",
    "    ax.set_aspect('equal')\n",
    "    ax.axis('off')\n",
    "\n",
    "# Example:\n",
    "fig, ax = plt.subplots() \n",
    "plot_network(ax, array([[-1,-0.5]]), ones((1,2)), zeros((1,2)), -ones((3,2))*0.5,  ones((3, 2)))\n",
    "\n",
    "def plot_training(epoch, epochs, errors, x, z, y, t, Wh, Wo):\n",
    "    if epoch is None:\n",
    "        return\n",
    "\n",
    "    fig, axs = plt.subplots(1,3,figsize=(15,5))\n",
    "    aerrors=array(errors).T\n",
    "    plot_network(axs[0], x, z, y, Wh, Wo)\n",
    "    plot_errors(axs[1], epoch, epochs, aerrors[0], ylabel='RMSE', ylim=3.0)\n",
    "    plot_errors(axs[2], epoch, epochs, aerrors[1], ylabel='RMBE', ylim=1.0)\n",
    "    clear_output(wait=True)\n",
    "\n",
    "    # Print what's going on\n",
    "    print('epoch %d / %d' % (epoch + 1, epochs))\n",
    "    print('x: %s' % str(x))\n",
    "    print('t: %s' % str(t))\n"
   ]
  },
  {
   "cell_type": "markdown",
   "metadata": {
    "slideshow": {
     "slide_type": "slide"
    }
   },
   "source": [
    "### Training Example\n",
    "\n",
    "Let's try training it to recognize the \"XOR\" pattern, and watch how it modifies the weights.  Since the output is not a linear function of the input, a linear classifier (perceptron) cannot learn this pattern. Let's see how the 3-layer neural network does."
   ]
  },
  {
   "cell_type": "code",
   "execution_count": 18,
   "metadata": {
    "collapsed": false
   },
   "outputs": [
    {
     "name": "stdout",
     "output_type": "stream",
     "text": [
      "epoch 600 / 1000\n",
      "x: [[ 1.  1.]]\n",
      "t: [[-1.]]\n"
     ]
    },
    {
     "data": {
      "image/png": "[encoded data removed]",
      "text/plain": [
       "<matplotlib.figure.Figure at 0x10ad69d50>"
      ]
     },
     "metadata": {},
     "output_type": "display_data"
    }
   ],
   "source": [
    "from numpy.random import randint\n",
    "def train(X, T, J, epochs = 1000, activation_function = tanh, eta = 0.1):\n",
    "    \"\"\"Perform online training (one sample at a time).\"\"\"\n",
    "    Wh, Wo = initialize_weights(X.shape[1], J, T.shape[1])\n",
    "    \n",
    "    errors = []\n",
    "    for epoch in range(epochs):\n",
    "        n = randint(X.shape[0])\n",
    "        t = T[n, newaxis]\n",
    "        x = X[n, newaxis]\n",
    "        Wh, Wo = update_weights(t, x, Wh, Wo, activation_function=activation_function, eta = eta)\n",
    "\n",
    "        # Evaluate on all targets\n",
    "        Z, Y, _, _ = activations_for(X, Wh, Wo, activation_function=activation_function)\n",
    "        z = Z[n, newaxis]\n",
    "        y = Y[n, newaxis]\n",
    "        errors.append(errors_for(T, Y))\n",
    "\n",
    "        # Yield to outside\n",
    "        yield epoch, epochs, errors, x, z, y, t, Wh, Wo\n",
    "        \n",
    "\n",
    "# The XOR pattern\n",
    "XOR_X=array([\n",
    "    [ 1,-1],\n",
    "    [-1, 1],\n",
    "    [ 1, 1],\n",
    "    [-1,-1]], dtype=float)\n",
    "XOR_T=array([\n",
    "    [ 1],\n",
    "    [ 1],\n",
    "    [-1],\n",
    "    [-1]], dtype=float)\n",
    "\n",
    "training = train(XOR_X, XOR_T, J = 2, epochs = 1000) # 1000 epochs is usually more than enough (unless it gets stuck)\n",
    "\n",
    "step1_button = Button(description=\"Train for one iteration\") # Button to perform one iteration\n",
    "step1_button.on_click(lambda b: plot_training(*next(training, (None,)*8)))\n",
    "display(step1_button)\n",
    "\n",
    "step100_button = Button(description=\"Train for 100 iterations\") # Button to perform 100 iterations\n",
    "step100_button.on_click(lambda b: [next(training, True) for i in range(1,100)] and plot_training(*next(training, (None,)*8)))\n",
    "display(step100_button)"
   ]
  },
  {
   "cell_type": "markdown",
   "metadata": {},
   "source": [
    "Note that sometimes (often?), the network gets stuck in a local minimum.  Also, the training (squared error) doesn't necessarily go down in a smooth fashion; this can be alleviated by using batch updates (in the next section.)"
   ]
  },
  {
   "cell_type": "markdown",
   "metadata": {
    "slideshow": {
     "slide_type": "slide"
    }
   },
   "source": [
    "## Refactoring the routines\n",
    "\n",
    "Before going further, let's reorganize the training rolutines so that we can more easily make various changes.  First, because there are many variables that are used by all of the routines, we'll collect them into a class called `NeuralNetwork`.  This class will take the network configuration (number of visible / hidden / output nodes) and contains the following methods, among others:\n",
    "\n",
    " * `activations_for`\n",
    " * `deltas_for`\n",
    " * `gradient_descent`\n",
    " * `train`  (This will be the main entry point)."
   ]
  },
  {
   "cell_type": "markdown",
   "metadata": {
    "slideshow": {
     "slide_type": "subslide"
    }
   },
   "source": [
    "Second, we'll change the routines so that they can be used for any number of layers $L$.  We'll change the notations too: instead of ${\\bf z}$, ${\\bf y}$, $W^{(h)}$, and $W^{(o)}$, we'll write\n",
    "\n",
    " * ${\\bf z}^{(l)}$ - hidden nodes at layer $l$, where $l \\in 1 .. L$.  So ${\\bf x}$ is ${\\bf z}^{(1)}$, and ${\\bf y}$ is now ${\\bf z}^{(L)}$.\n",
    " * $W^{(l)}$ - weights from layer $l$ to $l+1$, where $l \\in 1 .. L-1$. $W^{(h)}$ is $W^{(1)}$ and $W^{(o)}$ is $W^{(2)}$.\n",
    " \n",
    "With these notations, we can rewrite the previous equations as follows:\n",
    "\n",
    " * **Feed-forward**: ${\\bf z}^{(l+1)} = \\sigma({\\bf z}^{(l)} \\cdot W^{(l)})$\n",
    " * **Backpropagation**: $\\delta^{(L)} = ({\\bf y} - {\\bf t}) \\times \\sigma'({\\hat {\\bf y}}), \\quad \\delta^{(l-1)} = (\\delta^{(l)} \\cdot {\\hat W}^{(l-1)\\intercal} ) \\times \\sigma' ({\\hat {\\bf z}}^{(l-1)})$\n",
    " * **Weight updates**: $W^{(l)} \\leftarrow W^{(l)} - \\eta ({\\bf z}^{(l) \\intercal} \\cdot \\delta^{(l+1)}) $"
   ]
  },
  {
   "cell_type": "markdown",
   "metadata": {
    "slideshow": {
     "slide_type": "subslide"
    }
   },
   "source": [
    "Third, we'll use the batch learning for the gradient calculation.  Now, instead of using one sample at a time to calculate the gradient, we'll take the average of the gradients."
   ]
  },
  {
   "cell_type": "code",
   "execution_count": 23,
   "metadata": {
    "collapsed": false,
    "slideshow": {
     "slide_type": "subslide"
    }
   },
   "outputs": [
    {
     "data": {
      "image/png": "[encoded data removed]",
      "text/plain": [
       "<matplotlib.figure.Figure at 0x10c48ad90>"
      ]
     },
     "metadata": {},
     "output_type": "display_data"
    }
   ],
   "source": [
    "class NeuralNetwork(object):\n",
    "    def __init__(self, num_nodes=[2,2,1], activation_function=tanh, eta = 0.1):\n",
    "        self.num_nodes = num_nodes\n",
    "        self.activation_function = activation_function\n",
    "        # The derivative\n",
    "        self.sigma_prime = lambda x: approximate_derivative(self.activation_function, x)\n",
    "        self.eta = eta\n",
    "        self.initialize_weights()\n",
    "    \n",
    "    def initialize_weights(self):\n",
    "        self.Ws = [standard_normal((n + 1, m)) for n, m in zip(self.num_nodes[:-1], self.num_nodes[1:])]\n",
    "    \n",
    "    def activations_for(self, x):\n",
    "        \"\"\"Feed-forward calculations.\"\"\"\n",
    "        z_raws = [x]\n",
    "        zs = [x]\n",
    "        for W in self.Ws:\n",
    "            # list[-1] gives the last element on the list.\n",
    "            z_raws.append(dot(with_bias(zs[-1]), W))\n",
    "            zs.append(self.activation_function(z_raws[-1]))\n",
    "        return zs, z_raws\n",
    "    \n",
    "    def deltas_for(self, t, zs, z_raws):\n",
    "        \"\"\"Calculates the delta values for the output and hidden nodes.\n",
    "        \"\"\"\n",
    "        deltas = [multiply(zs[-1] - t, self.sigma_prime(z_raws[-1]))]\n",
    "        for W, z_raw in reversed(zip(self.Ws, z_raws)[1:]):\n",
    "            deltas.append(multiply(dot(deltas[-1], W[1:].T), self.sigma_prime(z_raw)))\n",
    "\n",
    "        deltas = list(reversed(deltas)) # Keep the lower layer to higher layer order\n",
    "        return deltas, zs\n",
    "\n",
    "    def gradient_descent(self, deltas, zs):\n",
    "        N = zs[0].shape[0]\n",
    "        return [W - self.eta * dot(with_bias(z).T, delta) / N for W, z, delta in zip(self.Ws, zs[:-1], deltas)]\n",
    "\n",
    "    def update_weights(self, t, x):\n",
    "        self.Ws = self.gradient_descent(*self.deltas_for(t, *self.activations_for(x)))\n",
    "\n",
    "    def predictions_for(self, x):\n",
    "        zs, _ = self.activations_for(x)\n",
    "        return zs[-1]\n",
    "    \n",
    "    def errors_for(self, t, x):\n",
    "        y = self.predictions_for(x)\n",
    "        mse = ((y-t)**2).mean()\n",
    "        mbe = (sign(y) != sign(t)).mean()\n",
    "        return mse, mbe\n",
    "\n",
    "    def train(self, X, T, epochs = 1000):\n",
    "        \"\"\"Online training.\"\"\"\n",
    "        self.initialize_weights()\n",
    "\n",
    "        errors = []\n",
    "        for epoch in range(epochs):\n",
    "            # Use all data to update weights\n",
    "            self.update_weights(T, X)\n",
    "        \n",
    "            # Evaluate on all targets\n",
    "            errors.append(self.errors_for(T, X))\n",
    "            \n",
    "            # Yield to outside\n",
    "            yield epoch, epochs, errors\n",
    "\n",
    "    def plot_network(self, ax, x):\n",
    "        \"\"\"Plots the graph representation of the network.\"\"\"\n",
    "        cmap = plt.get_cmap('RdBu')\n",
    "        zs, _ = self.activations_for(x)\n",
    "        \n",
    "        for l, z in enumerate(zs):\n",
    "            for i, zi in enumerate(with_bias(z).T):\n",
    "                if l < len(zs) - 1 or i > 0: # Don't show bias node for the output layer\n",
    "                    ax.add_artist(plt.Circle((1 + l*2, -i-1), 0.25, ec='k', fc=cmap(zi[0]/2+.5)))\n",
    "\n",
    "        for l, W in enumerate(self.Ws):\n",
    "            for i, wi in enumerate(W):\n",
    "                for j, wij in enumerate(wi):\n",
    "                    ax.arrow(1.3 + l*2, -i-1, 1.3, (i-j-1)*.9, head_width=0.05, head_length=0.1, ec=cmap(wij/2+.5), lw=abs(wij)*5.0)\n",
    "            \n",
    "        m = max(self.num_nodes)+1\n",
    "        ax.set_xlim([0, 2*len(self.num_nodes)])\n",
    "        ax.set_ylim([-m-1,0])\n",
    "        ax.set_aspect('equal')\n",
    "        ax.axis('off')\n",
    "            \n",
    "    def _plot_errors(self, ax, epoch, epochs, errors, ylabel='', ylim=1.0):\n",
    "        \"\"\"Plots the error graph.\"\"\"\n",
    "        ax.plot(arange(epoch), errors[:epoch])\n",
    "        ax.set_xlim([0, epochs])\n",
    "        ax.set_ylim([0, ylim])\n",
    "        ax.set_xlabel(\"Training epoch\")\n",
    "        ax.set_ylabel(ylabel)\n",
    "        ax.set_title(ylabel)\n",
    "        ax.grid()\n",
    "            \n",
    "    def plot_training(self, epoch, epochs, errors):\n",
    "        if epoch is None:\n",
    "            return\n",
    "        \n",
    "        fig, axs = plt.subplots(1,2,figsize=(10,5))\n",
    "        aerrors=array(errors).T\n",
    "        self._plot_errors(axs[0], epoch, epochs, aerrors[0], ylabel='RMSE', ylim=3.0)\n",
    "        self._plot_errors(axs[1], epoch, epochs, aerrors[1], ylabel='RMBE', ylim=1.0)\n",
    "        clear_output(wait=True)\n",
    "\n",
    "        \n",
    "net = NeuralNetwork(num_nodes=[XOR_X.shape[1],2,XOR_T.shape[1]])\n",
    "net_training = net.train(XOR_X, XOR_T, epochs = 1000)\n",
    "\n",
    "net_train_button = Button(description=\"Train for 100 iterations\") # Button to perform 100 iterations\n",
    "net_train_button.on_click(lambda b: [next(net_training, True) for i in range(1,100)] and net.plot_training(*next(net_training, (None,)*3)))\n",
    "display(net_train_button)"
   ]
  },
  {
   "cell_type": "markdown",
   "metadata": {
    "slideshow": {
     "slide_type": "subslide"
    }
   },
   "source": [
    "After training until satisfaction, plot how the network makes predictions:"
   ]
  },
  {
   "cell_type": "code",
   "execution_count": 58,
   "metadata": {
    "collapsed": false,
    "scrolled": true
   },
   "outputs": [
    {
     "data": {
      "image/png": "[encoded data removed]",
      "text/plain": [
       "<matplotlib.figure.Figure at 0x10a96e950>"
      ]
     },
     "metadata": {},
     "output_type": "display_data"
    }
   ],
   "source": [
    "fig, ax = plt.subplots(figsize=(5,5))\n",
    "interact(lambda n: net.plot_network(ax, XOR_X[n-1,newaxis]) or display(fig), \n",
    "         n=IntSlider(description='Make predictions for example ',min=1,max=XOR_X.shape[0])); plt.close()"
   ]
  },
  {
   "cell_type": "markdown",
   "metadata": {
    "collapsed": true,
    "slideshow": {
     "slide_type": "slide"
    }
   },
   "source": [
    "## Example: classifying handwritten digits\n",
    "\n",
    "Now let's use the `NeuralNetwork` to perform some supervised learning.  For starters, we'll classify handwritten digits data that comes with `scikit-learn`.  We'll use the `OneHotEncoder` to convert target values (0 through 9) into 10 output units, and also use `PCA` to decorrelate the inputs (and reduce the dimensionality for noise reduction.)\n",
    "\n",
    "We also use the mini-batch training to smooth the gradient estimates."
   ]
  },
  {
   "cell_type": "code",
   "execution_count": 50,
   "metadata": {
    "collapsed": false,
    "slideshow": {
     "slide_type": "subslide"
    }
   },
   "outputs": [],
   "source": [
    "from sklearn.decomposition import PCA\n",
    "from sklearn.cross_validation import train_test_split, ShuffleSplit \n",
    "from sklearn.preprocessing import OneHotEncoder\n",
    "\n",
    "class ClassifierNetwork(NeuralNetwork):\n",
    "    def train(self, X, T, epochs = 1000, test_size = 0.2):\n",
    "        \"\"\"Mini-batch training.\"\"\"\n",
    "        \n",
    "        # Prepare the output encoder\n",
    "        self.encoder = OneHotEncoder(sparse=False).fit(T[:,newaxis])\n",
    "        T1 = self.encoder.transform(T[:,newaxis])*2-1  # Convert to {-1, 1}\n",
    "        \n",
    "        # Split into training and test\n",
    "        X_train, X_test, T1_train, T1_test = train_test_split(X, T1, test_size=test_size)\n",
    "        \n",
    "        # Preprocess the data using PCA\n",
    "        self.pca = PCA(n_components = self.num_nodes[0], whiten=True, copy=True)\n",
    "        Xw_train = self.pca.fit_transform(X_train)\n",
    "        Xw_test = self.pca.transform(X_test)\n",
    "    \n",
    "        # Then do the training\n",
    "        self.initialize_weights()\n",
    "\n",
    "        train_errors = []\n",
    "        test_errors = []\n",
    "        # Use 10% of the training data for each iteration (mini-batch)\n",
    "        for epoch, (batch_index, _) in enumerate(ShuffleSplit(Xw_train.shape[0], n_iter=epochs, train_size=0.1)):\n",
    "            self.update_weights(T1_train[batch_index], Xw_train[batch_index])\n",
    "        \n",
    "            # Evaluate for training and test sets\n",
    "            train_errors.append(self.errors_for(T1_train, Xw_train))\n",
    "            test_errors.append(self.errors_for(T1_test, Xw_test))\n",
    "            \n",
    "            # Yield to outside\n",
    "            yield epoch, epochs, train_errors, test_errors    \n",
    "\n",
    "    def decode(self, Y):\n",
    "        \"\"\"Decodes the output node values back to the target vector.\"\"\"\n",
    "        return Y.argmax(axis=1) # Pick the one with the maximum activation\n",
    "    \n",
    "    def predictions_for(self, x):\n",
    "        xw = self.pca.transform(x)\n",
    "        y = super(ClassifierNetwork, self).predictions_for(xw)\n",
    "        return self.decode(y)\n",
    "    \n",
    "    def errors_for(self, t, x):\n",
    "        y = super(ClassifierNetwork, self).predictions_for(x)\n",
    "        mse = multiply(y-t,y-t).mean()\n",
    "        mce = (self.decode(y) != self.decode(t)).mean()\n",
    "        return mse, mce\n",
    "\n",
    "    def plot_training(self, fig, axs, epoch, epochs, train_errors, test_errors):\n",
    "        if epoch is None:\n",
    "            return\n",
    "        \n",
    "        atrain_errors=array(train_errors).T\n",
    "        atest_errors=array(test_errors).T\n",
    "        self._plot_errors(axs[0], epoch, epochs, c_[atrain_errors[0],atest_errors[0]], ylabel='RMSE', ylim=3.0)\n",
    "        axs[0].legend(['Training', 'Test'], loc=\"best\")\n",
    "        self._plot_errors(axs[1], epoch, epochs, c_[atrain_errors[1],atest_errors[1]], ylabel='Classification Error', ylim=1.0)\n",
    "        axs[1].legend(['Training', 'Test'], loc=\"best\") \n",
    "        clear_output(wait=True)\n",
    "        display(fig)\n",
    "        [ax.cla() for ax in axs]"
   ]
  },
  {
   "cell_type": "code",
   "execution_count": 51,
   "metadata": {
    "collapsed": false,
    "slideshow": {
     "slide_type": "subslide"
    }
   },
   "outputs": [
    {
     "data": {
      "image/png": "[encoded data removed]",
      "text/plain": [
       "<matplotlib.figure.Figure at 0x10ab59950>"
      ]
     },
     "metadata": {},
     "output_type": "display_data"
    }
   ],
   "source": [
    "from sklearn.datasets import load_digits\n",
    "digits = load_digits()\n",
    "digits_net = ClassifierNetwork(num_nodes=[20,20,10])\n",
    "\n",
    "fig, axs = plt.subplots(1,2,figsize=(10,5))\n",
    "for epoch, epochs, train_errors, test_errors in digits_net.train(digits.data, digits.target, epochs=2000):\n",
    "    if mod(epoch+1, 100) == 0:\n",
    "        digits_net.plot_training(fig, axs, epoch, epochs, train_errors, test_errors)\n",
    "plt.close()"
   ]
  },
  {
   "cell_type": "markdown",
   "metadata": {
    "slideshow": {
     "slide_type": "subslide"
    }
   },
   "source": [
    "Let's see where the network made incorrect classifications."
   ]
  },
  {
   "cell_type": "code",
   "execution_count": 59,
   "metadata": {
    "collapsed": false
   },
   "outputs": [
    {
     "data": {
      "image/png": "[encoded data removed]",
      "text/plain": [
       "<matplotlib.figure.Figure at 0x10b714e10>"
      ]
     },
     "metadata": {},
     "output_type": "display_data"
    },
    {
     "name": "stdout",
     "output_type": "stream",
     "text": [
      "Target = 8, Prediction = 6\n"
     ]
    }
   ],
   "source": [
    "fig, ax = plt.subplots(figsize=(1,1))\n",
    "Y = digits_net.predictions_for(digits.data)\n",
    "incorrect = flatnonzero(Y != digits.target)\n",
    "\n",
    "@interact\n",
    "def plot_digits_predictions(n=(0, len(incorrect)-1)):\n",
    "    image_id = incorrect[n]\n",
    "    ax.imshow(digits.images[image_id], cmap='gray', interpolation='none')\n",
    "    ax.axis('off')\n",
    "    clear_output(wait=True)\n",
    "    display(fig)\n",
    "    print('Target = %d, Prediction = %d' % (digits.target[image_id], Y[image_id]))\n",
    "plt.close()"
   ]
  }
 ],
 "metadata": {
  "celltoolbar": "Slideshow",
  "kernelspec": {
   "display_name": "Python 2",
   "language": "python",
   "name": "python2"
  },
  "language_info": {
   "codemirror_mode": {
    "name": "ipython",
    "version": 2
   },
   "file_extension": ".py",
   "mimetype": "text/x-python",
   "name": "python",
   "nbconvert_exporter": "python",
   "pygments_lexer": "ipython2",
   "version": "2.7.9"
  }
 },
 "nbformat": 4,
 "nbformat_minor": 0
}
