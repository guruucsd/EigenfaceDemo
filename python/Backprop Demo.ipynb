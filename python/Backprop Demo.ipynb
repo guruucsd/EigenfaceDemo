{
 "cells": [
  {
   "cell_type": "code",
   "execution_count": 6,
   "metadata": {
    "collapsed": false,
    "scrolled": true,
    "slideshow": {
     "slide_type": "skip"
    }
   },
   "outputs": [
    {
     "name": "stderr",
     "output_type": "stream",
     "text": [
      ":0: FutureWarning: IPython widgets are experimental and may change in the future.\n"
     ]
    }
   ],
   "source": [
    "%load_ext autoreload\n",
    "%autoreload 2\n",
    "%matplotlib inline\n",
    "\n",
    "from numpy import *\n",
    "from IPython.html.widgets import *\n",
    "from IPython.display import display\n",
    "import matplotlib.pyplot as plt\n",
    "from IPython.core.display import clear_output"
   ]
  },
  {
   "cell_type": "markdown",
   "metadata": {
    "slideshow": {
     "slide_type": "slide"
    }
   },
   "source": [
    "# Backpropagation Demo\n",
    "\n",
    "In this demo, we will show a neural network that performs image classification.\n",
    "\n",
    "First, load one of the face datasets:"
   ]
  },
  {
   "cell_type": "code",
   "execution_count": 7,
   "metadata": {
    "collapsed": false
   },
   "outputs": [],
   "source": [
    "import pickle\n",
    "\n",
    "dataset = pickle.load(open('data/cafe.pkl','r')) # or 'pofa.pkl' "
   ]
  },
  {
   "cell_type": "code",
   "execution_count": 8,
   "metadata": {
    "collapsed": false,
    "slideshow": {
     "slide_type": "skip"
    }
   },
   "outputs": [],
   "source": [
    "# This is the neural network class, for your information.\n",
    "from sklearn.decomposition import PCA\n",
    "from sklearn.learning_curve import learning_curve\n",
    "from sklearn.cross_validation import train_test_split\n",
    "from numpy.linalg import pinv\n",
    "from numpy.random import random_sample\n",
    "\n",
    "class NeuralNetwork(object):\n",
    "    def __init__(self, dataset, target_name):\n",
    "        self.dataset = dataset\n",
    "        self.targets = self.dataset[target_name]\n",
    "    \n",
    "    def _activation(self, x):\n",
    "        \"\"\" Funny tanh function. \"\"\"\n",
    "        z = x*2/3\n",
    "        y = (exp(z) - exp(-z)) / (exp(z) + exp(-z))\n",
    "        return 1.7159*y\n",
    "    \n",
    "    def _da(self, x):\n",
    "        return (1.7159 - multiply(x, x) / 1.7159) * 2/3\n",
    "    \n",
    "    def _inverse_activation(self, x):\n",
    "        z = x / 1.7159\n",
    "        return z\n",
    "        #z[z<-.999] = -.999; z[z>.999] = .999\n",
    "        #return arctanh(z)*3/2\n",
    "    \n",
    "    def feed_forward(self, X):\n",
    "        \"\"\"From the input X, calculate the activations at the hidden layer and the output layer.\"\"\"\n",
    "        Z      = self._activation(dot(c_[X, ones((X.shape[0], 1))], self.W_hidden))\n",
    "        return   self._activation(dot(c_[Z, ones((X.shape[0], 1))], self.W_output)), Z\n",
    "                                        \n",
    "    def back_propagate(self, inputs, hidden, output, errors):\n",
    "        \"\"\"Back-propagate the errors and update the weights.\"\"\"\n",
    "        d_output = self._da(output) * errors\n",
    "        d_hidden = self._da(hidden) * dot(d_output, self.W_output[:-1].T)\n",
    "        \n",
    "        n_samples = inputs.shape[0]\n",
    "        bias = ones((n_samples, 1))\n",
    "        # Update momentum and weights\n",
    "        self.V_output = self.output_learning_rate * dot(c_[hidden, bias].T, d_output) / n_samples\n",
    "        self.W_output+= self.V_output\n",
    "        \n",
    "        self.V_hidden = self.hidden_learning_rate * dot(c_[inputs, bias].T, d_hidden) / n_samples\n",
    "        self.W_hidden+= self.V_hidden \n",
    "    \n",
    "    def train(self, epochs = 100, n_input = 10, n_hidden = 40, \n",
    "            hidden_learning_rate = 0.1, output_learning_rate = 0.1, momentum_learning_rate = 0.9,          \n",
    "            test_size=0.2, cv=3):\n",
    "        \"\"\"Initialize the network and start training.\"\"\"\n",
    "\n",
    "        # Initialize variables\n",
    "        self.n_input = n_input\n",
    "        self.n_hidden = n_hidden\n",
    "        self.hidden_learning_rate = hidden_learning_rate\n",
    "        self.output_learning_rate = output_learning_rate\n",
    "        self.momentum_learning_rate = momentum_learning_rate\n",
    "        \n",
    "        self.n_output = len(unique(self.targets))\n",
    "        self.V_hidden = zeros((self.n_input + 1, self.n_hidden))\n",
    "        self.W_hidden = random_sample(self.V_hidden.shape)\n",
    "        self.V_output = zeros((self.n_hidden + 1, self.n_output))\n",
    "        self.W_output = random_sample(self.V_output.shape)\n",
    "        \n",
    "        data = self.dataset.data\n",
    "\n",
    "        # Preprocess the data using PCA\n",
    "        self.pca = PCA(n_components = self.n_input, whiten=True, copy=True)\n",
    "        X = self.pca.fit_transform(data)\n",
    "        self.X = X\n",
    "\n",
    "        # Start the training\n",
    "        rmse=zeros((epochs,2))\n",
    "        cerr=zeros((epochs,2))\n",
    "        for t in arange(epochs):\n",
    "            \n",
    "            # Test then Train, since we'll use the training errors\n",
    "            for i, (inputs, y) in enumerate([[X_test, y_test], [X_train, y_train]]):\n",
    "                outputs, hidden = self.feed_forward(inputs)\n",
    "                target=ones(outputs.shape)*(-1.0)\n",
    "                target[arange(target.shape[0]),y-1]=1.0\n",
    "                errors = target - outputs\n",
    "                rmse[t, i] = sqrt((errors**2).mean())  # RMSE\n",
    "                cerr[t, i] = (y == argmax(outputs,axis=1)).mean()\n",
    "            \n",
    "            yield rmse, cerr, t, epochs\n",
    "            \n",
    "            # Update weights using backpropagation\n",
    "            self.back_propagate(inputs, hidden, outputs, errors)\n",
    "\n",
    "    def predict(self, n):\n",
    "        \"\"\"Returns the prediction and the reconstruction for the sample n.\"\"\"\n",
    "        X = self.X[n:n+1]\n",
    "        outputs, hidden = self.feed_forward(X)\n",
    "        pca_reconstruction = self.pca.inverse_transform(X)\n",
    "        hidden_expected = dot(self._inverse_activation(outputs), pinv(self.W_output))[:,:-1]\n",
    "        hidden_reconstruction = self.pca.inverse_transform(dot(self._inverse_activation(hidden_expected), pinv(self.W_hidden))[:,:-1])\n",
    "        return (argmax(outputs) + 1,\n",
    "                pca_reconstruction.reshape(self.dataset.images.shape[1:]),\n",
    "                hidden_reconstruction.reshape(self.dataset.images.shape[1:]))\n",
    "\n",
    "def plot_training(axs, rmse, cerr, t, epochs):\n",
    "    \"\"\"Draw the plot to the specified axis.\"\"\"\n",
    "    axs[0].set_title(\"RMSE\")\n",
    "    axs[0].set_xlabel(\"Training epoch\")\n",
    "    axs[0].set_ylabel(\"RMSE\")\n",
    "    axs[0].grid()\n",
    "\n",
    "    axs[0].plot(arange(t), rmse[:t])\n",
    "    axs[0].set_xlim([0, epochs])\n",
    "    axs[0].set_ylim([0, 2.0])\n",
    "    axs[0].legend(['Test', 'Training'], loc=\"best\")\n",
    "\n",
    "    axs[1].set_title(\"Classification Error\")\n",
    "    axs[1].set_xlabel(\"Training epoch\")\n",
    "    axs[1].set_ylabel(\"Classification Error Rate [\\%]\")\n",
    "    axs[1].grid()\n",
    "\n",
    "    axs[1].plot(arange(t), cerr[:t]*100.0)\n",
    "    axs[1].set_xlim([0, epochs])\n",
    "    axs[1].set_ylim([0, 100.0])\n",
    "    axs[1].legend(['Test', 'Training'], loc=\"best\")\n",
    "\n",
    "def train_network(dataset, target_name, **kwargs):\n",
    "    global net\n",
    "    net = NeuralNetwork(dataset, target_name)\n",
    "    fig, axs = plt.subplots(1,2,figsize=(10,5))\n",
    "    for rmse, cerr, t, epochs in net.train(**kwargs):\n",
    "        if mod(t, 10) != 0:\n",
    "            continue\n",
    "\n",
    "        plot_training(axs, rmse, cerr, t, epochs)\n",
    "        clear_output(wait=True)\n",
    "        display(fig)\n",
    "        axs[0].cla()\n",
    "        axs[1].cla()\n",
    "\n",
    "    plt.close()\n",
    "    plot_training(axs, rmse, cerr, t, epochs)\n",
    "    clear_output(wait=True)\n",
    "    display(fig)"
   ]
  },
  {
   "cell_type": "markdown",
   "metadata": {
    "slideshow": {
     "slide_type": "slide"
    }
   },
   "source": [
    "Then train the `net` using the controls here:"
   ]
  },
  {
   "cell_type": "code",
   "execution_count": 12,
   "metadata": {
    "collapsed": false
   },
   "outputs": [
    {
     "data": {
      "image/png": "[encoded data removed]",
      "text/plain": [
       "<matplotlib.figure.Figure at 0x113c52210>"
      ]
     },
     "metadata": {},
     "output_type": "display_data"
    }
   ],
   "source": [
    "net = None # Global\n",
    "\n",
    "interact_manual(train_network,\n",
    "    dataset=fixed(dataset),\n",
    "    target_name={'Identity': 'target', 'Gender': 'gender', 'Expression': 'expression'},\n",
    "    epochs= IntSlider(min=10, max=500, step=10, value=100),\n",
    "    n_input = IntSlider(min=1, max=(dataset.data.shape[0]-1), value=40),\n",
    "    n_hidden = IntSlider(min=1, max=40, value=10), \n",
    "    hidden_learning_rate = FloatSlider(min=0.01, max=0.3, value=0.1),\n",
    "    output_learning_rate = FloatSlider(min=0.01, max=0.3, value=0.1),\n",
    "    momentum_learning_rate = FloatSlider(min=0.5, max=0.99, value=0.9),         \n",
    "    test_size=FloatSlider(min=0.1, max=0.5, value=0.2))"
   ]
  },
  {
   "cell_type": "markdown",
   "metadata": {
    "slideshow": {
     "slide_type": "slide"
    }
   },
   "source": [
    "After the network is trained, use it to classify test images."
   ]
  },
  {
   "cell_type": "code",
   "execution_count": 10,
   "metadata": {
    "collapsed": false
   },
   "outputs": [
    {
     "name": "stdout",
     "output_type": "stream",
     "text": [
      "Please train the network first!\n"
     ]
    }
   ],
   "source": [
    "@interact\n",
    "def plot_classification(image_id=(0, dataset.images.shape[0]-1)):\n",
    "    global net\n",
    "    if net is None:\n",
    "        print(\"Please train the network first!\")\n",
    "        return\n",
    "    \n",
    "    f, axs = plt.subplots(1,3, figsize=(10,5))\n",
    "    axs[0].imshow(dataset.images[image_id],cmap='gray')\n",
    "    axs[0].set_title('Id = %d, Target = %d' % (dataset.target[image_id], net.targets[image_id]))\n",
    "    axs[0].axis('off')\n",
    "    \n",
    "    prediction, pca_r, hidden_r = net.predict(image_id)\n",
    "    axs[1].imshow(pca_r,cmap='gray')\n",
    "    axs[1].set_title('PCA reconstruction')\n",
    "    axs[1].axis('off')\n",
    "\n",
    "    axs[2].imshow(hidden_r,cmap='gray')\n",
    "    axs[2].set_title('Reconstruction (predicted %d)' % prediction)\n",
    "    axs[2].axis('off')"
   ]
  },
  {
   "cell_type": "markdown",
   "metadata": {
    "slideshow": {
     "slide_type": "slide"
    }
   },
   "source": [
    "Let's plot the output node representation in 2D:"
   ]
  },
  {
   "cell_type": "code",
   "execution_count": 11,
   "metadata": {
    "collapsed": false
   },
   "outputs": [
    {
     "ename": "AttributeError",
     "evalue": "'NoneType' object has no attribute 'feed_forward'",
     "output_type": "error",
     "traceback": [
      "\u001b[0;31m---------------------------------------------------------------------------\u001b[0m",
      "\u001b[0;31mAttributeError\u001b[0m                            Traceback (most recent call last)",
      "\u001b[0;32m<ipython-input-11-b074da85fd4d>\u001b[0m in \u001b[0;36m<module>\u001b[0;34m()\u001b[0m\n\u001b[0;32m----> 1\u001b[0;31m \u001b[0moutputs\u001b[0m\u001b[0;34m,\u001b[0m \u001b[0mhidden\u001b[0m \u001b[0;34m=\u001b[0m \u001b[0mnet\u001b[0m\u001b[0;34m.\u001b[0m\u001b[0mfeed_forward\u001b[0m\u001b[0;34m(\u001b[0m\u001b[0mnet\u001b[0m\u001b[0;34m.\u001b[0m\u001b[0mX\u001b[0m\u001b[0;34m)\u001b[0m\u001b[0;34m\u001b[0m\u001b[0m\n\u001b[0m\u001b[1;32m      2\u001b[0m \u001b[0mmodel\u001b[0m\u001b[0;34m=\u001b[0m\u001b[0mPCA\u001b[0m\u001b[0;34m(\u001b[0m\u001b[0mn_components\u001b[0m\u001b[0;34m=\u001b[0m\u001b[0;36m2\u001b[0m\u001b[0;34m)\u001b[0m\u001b[0;34m\u001b[0m\u001b[0m\n\u001b[1;32m      3\u001b[0m \u001b[0moutputs_2d\u001b[0m \u001b[0;34m=\u001b[0m \u001b[0mmodel\u001b[0m\u001b[0;34m.\u001b[0m\u001b[0mfit_transform\u001b[0m\u001b[0;34m(\u001b[0m\u001b[0moutputs\u001b[0m\u001b[0;34m)\u001b[0m\u001b[0;34m\u001b[0m\u001b[0m\n\u001b[1;32m      4\u001b[0m \u001b[0mhidden_2d\u001b[0m \u001b[0;34m=\u001b[0m \u001b[0mmodel\u001b[0m\u001b[0;34m.\u001b[0m\u001b[0mfit_transform\u001b[0m\u001b[0;34m(\u001b[0m\u001b[0mhidden\u001b[0m\u001b[0;34m)\u001b[0m\u001b[0;34m\u001b[0m\u001b[0m\n\u001b[1;32m      5\u001b[0m \u001b[0mfig\u001b[0m\u001b[0;34m,\u001b[0m \u001b[0maxs\u001b[0m \u001b[0;34m=\u001b[0m \u001b[0mplt\u001b[0m\u001b[0;34m.\u001b[0m\u001b[0msubplots\u001b[0m\u001b[0;34m(\u001b[0m\u001b[0;36m1\u001b[0m\u001b[0;34m,\u001b[0m \u001b[0;36m2\u001b[0m\u001b[0;34m,\u001b[0m \u001b[0mfigsize\u001b[0m\u001b[0;34m=\u001b[0m\u001b[0;34m(\u001b[0m\u001b[0;36m10\u001b[0m\u001b[0;34m,\u001b[0m \u001b[0;36m5\u001b[0m\u001b[0;34m)\u001b[0m\u001b[0;34m)\u001b[0m\u001b[0;34m\u001b[0m\u001b[0m\n",
      "\u001b[0;31mAttributeError\u001b[0m: 'NoneType' object has no attribute 'feed_forward'"
     ]
    }
   ],
   "source": [
    "outputs, hidden = net.feed_forward(net.X)\n",
    "model=PCA(n_components=2)\n",
    "outputs_2d = model.fit_transform(outputs)\n",
    "hidden_2d = model.fit_transform(hidden)\n",
    "fig, axs = plt.subplots(1, 2, figsize=(10, 5))\n",
    "axs[0].scatter(hidden_2d[:,0],hidden_2d[:,1],c=net.targets,lw=0)\n",
    "axs[0].set_title('Hidden Nodes')\n",
    "axs[1].scatter(outputs_2d[:,0],outputs_2d[:,1],c=net.targets,lw=0)\n",
    "axs[1].set_title('Output Nodes')"
   ]
  },
  {
   "cell_type": "code",
   "execution_count": null,
   "metadata": {
    "collapsed": true
   },
   "outputs": [],
   "source": []
  }
 ],
 "metadata": {
  "kernelspec": {
   "display_name": "Python 2",
   "language": "python",
   "name": "python2"
  },
  "language_info": {
   "codemirror_mode": {
    "name": "ipython",
    "version": 2
   },
   "file_extension": ".py",
   "mimetype": "text/x-python",
   "name": "python",
   "nbconvert_exporter": "python",
   "pygments_lexer": "ipython2",
   "version": "2.7.9"
  }
 },
 "nbformat": 4,
 "nbformat_minor": 0
}
