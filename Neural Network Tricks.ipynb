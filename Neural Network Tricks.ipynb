{
 "cells": [
  {
   "cell_type": "code",
   "execution_count": 1,
   "metadata": {
    "collapsed": false,
    "slideshow": {
     "slide_type": "skip"
    }
   },
   "outputs": [
    {
     "name": "stderr",
     "output_type": "stream",
     "text": [
      ":0: FutureWarning: IPython widgets are experimental and may change in the future.\n"
     ]
    }
   ],
   "source": [
    "%load_ext autoreload\n",
    "%autoreload 2\n",
    "%matplotlib inline\n",
    "\n",
    "from numpy import *\n",
    "from IPython.html.widgets import *\n",
    "from IPython.display import display\n",
    "import matplotlib.pyplot as plt\n",
    "from IPython.core.display import clear_output"
   ]
  },
  {
   "cell_type": "code",
   "execution_count": 2,
   "metadata": {
    "collapsed": false,
    "slideshow": {
     "slide_type": "skip"
    }
   },
   "outputs": [
    {
     "data": {
      "application/javascript": [
       "/* \n",
       "Install with\n",
       "sudo ipython install-nbextension https://bitbucket.org/ipre/calico/downloads/calico-document-tools-1.0.zip\n",
       "\n",
       "and do citations like\n",
       "\n",
       "[CITE](#cite-PER-GRA:2007)\n",
       "*/\n",
       "IPython.load_extensions('calico-document-tools');"
      ],
      "text/plain": [
       "<IPython.core.display.Javascript object>"
      ]
     },
     "metadata": {},
     "output_type": "display_data"
    }
   ],
   "source": [
    "%%javascript\n",
    "/* \n",
    "Install with\n",
    "sudo ipython install-nbextension https://bitbucket.org/ipre/calico/downloads/calico-document-tools-1.0.zip\n",
    "\n",
    "and do citations like\n",
    "\n",
    "[CITE](#cite-PER-GRA:2007)\n",
    "*/\n",
    "IPython.load_extensions('calico-document-tools');"
   ]
  },
  {
   "cell_type": "markdown",
   "metadata": {
    "slideshow": {
     "slide_type": "slide"
    }
   },
   "source": [
    "<!--bibtex\n",
    "\n",
    "@incollection{LeCun:2012vf,\n",
    "author = {LeCun, Yann A and Bottou, Leon and Orr, Genevieve B and Muller, Klaus-Robert},\n",
    "title = {{Efficient backprop}},\n",
    "booktitle = {Neural Networks: tricks of the trade},\n",
    "year = {2012},\n",
    "pages = {9--48},\n",
    "publisher = {Springer}\n",
    "}\n",
    "\n",
    "-->"
   ]
  },
  {
   "cell_type": "markdown",
   "metadata": {},
   "source": [
    "# Neural Network Tricks"
   ]
  },
  {
   "cell_type": "markdown",
   "metadata": {},
   "source": [
    "In this notebook, I'll show the effects of various techniques (\"tricks\") used to improve the performance of neural networks.  Most of them come from the <a name=\"ref-1\"/>[(LeCun, Bottou, Orr and Muller, 2012)](#cite-LeCun:2012vf) paper."
   ]
  },
  {
   "cell_type": "markdown",
   "metadata": {
    "slideshow": {
     "slide_type": "subslide"
    }
   },
   "source": [
    "Previously, we built a basic neural network in the \"Backprop Exercise\" notebook.  Here, I'll use a slightly refactored version of the `NeuralNetwork` class:"
   ]
  },
  {
   "cell_type": "code",
   "execution_count": 3,
   "metadata": {
    "collapsed": true
   },
   "outputs": [],
   "source": [
    "%pycat neural_network.py"
   ]
  },
  {
   "cell_type": "code",
   "execution_count": 43,
   "metadata": {
    "collapsed": false
   },
   "outputs": [],
   "source": [
    "from sklearn.decomposition import PCA\n",
    "from sklearn.cross_validation import train_test_split, ShuffleSplit \n",
    "from sklearn.preprocessing import OneHotEncoder\n",
    "from neural_network import NeuralNetwork\n",
    "\n",
    "# The classifier network\n",
    "class ClassifierNetwork(NeuralNetwork):\n",
    "    \"\"\"Neural network with classification error plots.\"\"\"\n",
    "    def errors_for(self, t, x):\n",
    "        x, t = self.preprocessed(x, t)\n",
    "        y = self.predictions_for(x)\n",
    "        mse = multiply(y-t,y-t).mean()\n",
    "        mce = (y.argmax(axis=1) != t.argmax(axis=1)).mean()\n",
    "        return mse, mce\n",
    "\n",
    "    def train_classifier(self, dataset, fig=None, ax=None, epochs=1000):\n",
    "        \"\"\"Perform the classification task for the data using the given network, without using train-test split.\"\"\"\n",
    "        X, T = dataset.data, dataset.target\n",
    "        _X, _T = self.preprocessed(X, T)\n",
    "\n",
    "        errors=[]    \n",
    "        for epoch in range(epochs):\n",
    "            self.update_weights(_T, _X)\n",
    "            errors.append(self.errors_for(T, X))\n",
    "\n",
    "            if fig is not None and mod(epoch+1, 100) == 0:\n",
    "                aerrors=array(errors).T\n",
    "                self.plot_errors(ax, aerrors.T, epoch, epochs, ylabel='Errors', ylim=3.0)\n",
    "                ax.legend(['RMSE', 'RMCE'], loc='ba')\n",
    "                clear_output(wait=True)\n",
    "                display(fig)\n",
    "                ax.cla()\n",
    "            \n",
    "            if errors[-1][1] == 0:  # Perfect classification\n",
    "                break\n",
    "\n",
    "        plt.close()    \n",
    "        return errors[-1]    \n",
    "\n",
    "    def plot_errors(self, ax, errors, epoch, epochs, ylabel, ylim=1.0):\n",
    "        \"\"\"Plots the error graph.\"\"\"\n",
    "        ax.plot(arange(epoch), errors[:epoch])\n",
    "        ax.set_xlim([0, epochs])\n",
    "        ax.set_ylim([0, ylim])\n",
    "        ax.set_xlabel(\"Training epoch\")\n",
    "        ax.set_ylabel(ylabel)\n",
    "        ax.set_title(ylabel)\n",
    "        ax.grid()\n",
    "        ax.legend(['Training', 'Test'], loc=\"best\")      \n",
    "\n",
    "        \n",
    "class ClassifierNetworkWithOneHot(ClassifierNetwork):\n",
    "    \"\"\"Encodes target values using one-hot encoding.\"\"\"\n",
    "    def preprocessed(self, X, T=None):\n",
    "        if T is not None:\n",
    "            if not hasattr(self, 'encoder'):\n",
    "                self.encoder = OneHotEncoder(sparse=False).fit(T[:,newaxis])\n",
    "            T = self.encoder.transform(T[:,newaxis])*2 - 1\n",
    "        return super(ClassifierNetworkWithOneHot, self).preprocessed(X, T)\n",
    "\n",
    "    \n",
    "# Classifier with PCA preprocessing\n",
    "class ClassifierNetworkForImages(ClassifierNetworkWithOneHot):\n",
    "    \"\"\"Applies PCA to the input data.\"\"\"\n",
    "    \n",
    "    def preprocessed(self, X, T=None):\n",
    "        if not hasattr(self, 'pca'):\n",
    "            self.pca = PCA(n_components = self.num_nodes[0], whiten=True, copy=True).fit(X)\n",
    "        return super(ClassifierNetworkForImages, self).preprocessed(self.pca.transform(X),T)\n",
    "    \n",
    "    def train_classifier(self, dataset, fig=None, axs=None, epochs=1000, batch_size=0.1, test_size=0.2):\n",
    "        \"\"\"Perform the classification task for the data using the given network.\"\"\"\n",
    "\n",
    "        # Split to training and test\n",
    "        X_train, X_test, T_train, T_test = train_test_split(dataset.data, dataset.target, test_size=test_size)\n",
    "\n",
    "        errors=[]\n",
    "        for epoch, epochs in self.train(X_train, T_train, epochs=epochs, batch_size=batch_size):\n",
    "            errors.append(self.errors_for(T_train, X_train) + self.errors_for(T_test, X_test))\n",
    "\n",
    "            if fig is not None and mod(epoch+1, 100) == 0:\n",
    "                aerrors=array(errors).T\n",
    "                self.plot_errors(axs[0], aerrors[::2].T, epoch, epochs, ylabel='RMSE', ylim=3.0)\n",
    "                self.plot_errors(axs[1], aerrors[1::2].T,epoch, epochs, ylabel='Classification Error', ylim=1.0)\n",
    "                clear_output(wait=True)\n",
    "                display(fig)\n",
    "                [ax.cla() for ax in axs]\n",
    "\n",
    "        plt.close()    \n",
    "        train_rmse, train_rce, test_rmse, test_rce = errors[-1]\n",
    "        return train_rmse, test_rmse, train_rce, test_rce"
   ]
  },
  {
   "cell_type": "markdown",
   "metadata": {
    "slideshow": {
     "slide_type": "subslide"
    }
   },
   "source": [
    "Here are some datasets we'll be using:"
   ]
  },
  {
   "cell_type": "code",
   "execution_count": 5,
   "metadata": {
    "collapsed": false
   },
   "outputs": [],
   "source": [
    "from sklearn.datasets.base import Bunch\n",
    "from sklearn.datasets import load_digits\n",
    "\n",
    "# The XOR dataset\n",
    "dataset_xor = Bunch()\n",
    "dataset_xor['data'] = array([\n",
    "    [ 1,-1],\n",
    "    [-1, 1],\n",
    "    [ 1, 1],\n",
    "    [-1,-1]], dtype=float)\n",
    "dataset_xor['target'] = array([\n",
    "    1,\n",
    "    1,\n",
    "    0,\n",
    "    0], dtype=float)\n",
    "\n",
    "dataset_digits=load_digits()"
   ]
  },
  {
   "cell_type": "markdown",
   "metadata": {
    "slideshow": {
     "slide_type": "slide"
    }
   },
   "source": [
    "Now let's see how the \"basic\" network does for these tasks."
   ]
  },
  {
   "cell_type": "code",
   "execution_count": 44,
   "metadata": {
    "collapsed": false,
    "slideshow": {
     "slide_type": "subslide"
    }
   },
   "outputs": [
    {
     "data": {
      "image/png": "[encoded data removed]",
      "text/plain": [
       "<matplotlib.figure.Figure at 0x11330cf90>"
      ]
     },
     "metadata": {},
     "output_type": "display_data"
    },
    {
     "name": "stdout",
     "output_type": "stream",
     "text": [
      "(0.50954145294780395, 0.5)\n"
     ]
    }
   ],
   "source": [
    "base_xor_net = ClassifierNetworkWithOneHot(num_nodes=[2, 2, 2])\n",
    "print(base_xor_net.train_classifier(dataset_xor, *plt.subplots(figsize=(5,5)), epochs=500))"
   ]
  },
  {
   "cell_type": "markdown",
   "metadata": {},
   "source": [
    "Note that the network often gets stuck in a local minimum."
   ]
  },
  {
   "cell_type": "code",
   "execution_count": 7,
   "metadata": {
    "collapsed": false,
    "slideshow": {
     "slide_type": "subslide"
    }
   },
   "outputs": [
    {
     "data": {
      "image/png": "[encoded data removed]",
      "text/plain": [
       "<matplotlib.figure.Figure at 0x1122a47d0>"
      ]
     },
     "metadata": {},
     "output_type": "display_data"
    },
    {
     "name": "stdout",
     "output_type": "stream",
     "text": [
      "(0.094691887848109557, 0.10358034768414033, 0.14683368128044538, 0.16944444444444445)\n"
     ]
    }
   ],
   "source": [
    "base_digits_net = ClassifierNetworkForImages(num_nodes=[20, 20, 10])\n",
    "print(base_digits_net.train_classifier(dataset_digits, *plt.subplots(1, 2, figsize=(10,5)), epochs=1000))"
   ]
  },
  {
   "cell_type": "markdown",
   "metadata": {
    "slideshow": {
     "slide_type": "slide"
    }
   },
   "source": [
    "# Activation function\n",
    "\n",
    "Let's try the \"funny tanh\" as the activation function.  For the XOR dataset, this ameliorates the problem of the network getting stuck in the local minimum."
   ]
  },
  {
   "cell_type": "code",
   "execution_count": 45,
   "metadata": {
    "collapsed": false
   },
   "outputs": [
    {
     "data": {
      "image/png": "[encoded data removed]",
      "text/plain": [
       "<matplotlib.figure.Figure at 0x11346f110>"
      ]
     },
     "metadata": {},
     "output_type": "display_data"
    }
   ],
   "source": [
    "from neural_network import ActivationFunction\n",
    "\n",
    "class FunnyTanh(ActivationFunction):\n",
    "    def apply(self, x):\n",
    "        return 1.7159 * tanh(x*2/3) + 0.001 * x\n",
    "\n",
    "funnytanh_xor_net = ClassifierNetworkWithOneHot(num_nodes=[2, 2, 2], activation_function=FunnyTanh())\n",
    "    \n",
    "# Train 10 times and see how many times it gets stuck\n",
    "results=zeros((10,2))\n",
    "epochs=300\n",
    "for result in results:\n",
    "    Ws = base_xor_net.initial_weights() # keep the same initial weights\n",
    "    base_xor_net.Ws = Ws\n",
    "    funnytanh_xor_net.Ws = Ws\n",
    "    result[0]=base_xor_net.train_classifier(dataset_xor, epochs=epochs)[1]  \n",
    "    result[1]=funnytanh_xor_net.train_classifier(dataset_xor, epochs=epochs)[1]\n",
    "\n",
    "plt.bar(arange(2), (results<1e-8).mean(axis=0) * 100.0)\n",
    "plt.xticks(arange(2)+.5, ['base', 'funnytanh'])\n",
    "plt.xlim([-.25, 2.25])\n",
    "plt.ylim([0, 100.0])\n",
    "plt.grid()\n",
    "plt.title('Pct successful training by %d epochs (out of %d trials)'% (epochs, results.shape[0]))\n",
    "None"
   ]
  },
  {
   "cell_type": "markdown",
   "metadata": {
    "slideshow": {
     "slide_type": "slide"
    }
   },
   "source": [
    "# Better initial weights\n",
    "\n",
    "Let's change the initial random weights to have standard deviation of $1/\\sqrt m$, where $m$ is the number of connection feeding *into* the node."
   ]
  },
  {
   "cell_type": "code",
   "execution_count": 9,
   "metadata": {
    "collapsed": false
   },
   "outputs": [
    {
     "data": {
      "image/png": "[encoded data removed]",
      "text/plain": [
       "<matplotlib.figure.Figure at 0x113673910>"
      ]
     },
     "metadata": {},
     "output_type": "display_data"
    }
   ],
   "source": [
    "def better_initial_weights(self):\n",
    "    return [standard_normal((n + 1, m)) / sqrt(n + 1) for n, m in zip(self.num_nodes[:-1], self.num_nodes[1:])]\n",
    "\n",
    "better_weight_xor_net = ClassifierNetworkWithOneHot(num_nodes=[2, 2, 2])\n",
    "\n",
    "# Train 10 times and see how many times it gets stuck\n",
    "results=zeros((10,2))\n",
    "epochs=300\n",
    "for result in results:\n",
    "    base_xor_net.Ws = base_xor_net.initial_weights()\n",
    "    better_weight_xor_net.Ws = better_initial_weights(better_weight_xor_net)\n",
    "    result[0]=base_xor_net.train_classifier(dataset_xor, epochs=epochs)[1]  \n",
    "    result[1]=better_weight_xor_net.train_classifier(dataset_xor, epochs=epochs)[1]\n",
    "\n",
    "plt.bar(arange(2), (results<1e-8).mean(axis=0) * 100.0)\n",
    "plt.xticks(arange(2)+.5, ['base', 'better_weight'])\n",
    "plt.xlim([-.25, 2.25])\n",
    "plt.ylim([0, 100.0])\n",
    "plt.grid()\n",
    "plt.title('Pct successful training by %d epochs (out of %d trials)'% (epochs, results.shape[0]))\n",
    "None"
   ]
  },
  {
   "cell_type": "markdown",
   "metadata": {
    "slideshow": {
     "slide_type": "slide"
    }
   },
   "source": [
    "# Momentum \n",
    "\n",
    "Let's add the momentum to the stochastic gradient update.  Now, instead of updating the weights as\n",
    "\n",
    "$$\n",
    "W \\leftarrow W - \\eta \\frac{\\partial E}{\\partial W}\n",
    "$$\n",
    "\n",
    "We will keep the *previous weight update* $V$ and *momentum* $\\mu$ so that:\n",
    "\n",
    "$$\n",
    "\\begin{align*}\n",
    "    V &\\leftarrow \\mu V - \\eta \\frac{\\partial E}{\\partial W} \\\\\n",
    "    W   &\\leftarrow W + V\n",
    "\\end{align*}\n",
    "$$\n",
    "\n",
    "The *momentum* $\\mu$ modulates how much of the previous weight update is reflected in the current update. "
   ]
  },
  {
   "cell_type": "code",
   "execution_count": 33,
   "metadata": {
    "collapsed": false
   },
   "outputs": [
    {
     "data": {
      "image/png": "[encoded data removed]",
      "text/plain": [
       "<matplotlib.figure.Figure at 0x112060d50>"
      ]
     },
     "metadata": {},
     "output_type": "display_data"
    }
   ],
   "source": [
    "from neural_network import _with_bias\n",
    "\n",
    "class ClassifierNetworkWithMomentum(ClassifierNetworkWithOneHot):\n",
    "    def __init__(self, *args, **kwargs):\n",
    "        super(ClassifierNetworkWithMomentum, self).__init__(*args, **kwargs)\n",
    "        self.momentum = kwargs['momentum'] if kwargs.has_key('momentum') else 0.9\n",
    "        self.Vs = [zeros(W.shape) for W in self.Ws]\n",
    "    \n",
    "    def gradient_descent(self, deltas, zs):\n",
    "        N = zs[0].shape[0]\n",
    "        Js= [self.eta * dot(_with_bias(z).T, delta) / N for W, z, delta in zip(self.Ws, zs[:-1], deltas)]\n",
    "        self.Vs = [self.momentum * V - J for V, J in zip(self.Vs, Js)]\n",
    "        return [W + V for W, V in zip(self.Vs, self.Ws)]\n",
    "\n",
    "momentum_xor_net = ClassifierNetworkWithMomentum(num_nodes=[2, 2, 2], eta=0.05)\n",
    "#print(momentum_xor_net.train_classifier(dataset_xor, *plt.subplots(figsize=(5,5)), epochs=500))\n",
    "\n",
    "# Train 10 times and see how many times it gets stuck\n",
    "results=zeros((10,2))\n",
    "epochs=600\n",
    "for result in results:\n",
    "    Ws = base_xor_net.initial_weights()\n",
    "    base_xor_net.Ws = Ws\n",
    "    momentum_xor_net.Ws = Ws\n",
    "    result[0]=base_xor_net.train_classifier(dataset_xor, epochs=epochs)[1]  \n",
    "    result[1]=momentum_xor_net.train_classifier(dataset_xor, epochs=epochs)[1]\n",
    "\n",
    "plt.bar(arange(2), (results<1e-8).mean(axis=0) * 100.0)\n",
    "plt.xticks(arange(2)+.5, ['base', 'momentum'])\n",
    "plt.xlim([-.25, 2.25])\n",
    "plt.ylim([0, 100.0])\n",
    "plt.grid()\n",
    "plt.title('Pct successful training by %d epochs (out of %d trials)'% (epochs, results.shape[0]))\n",
    "None"
   ]
  },
  {
   "cell_type": "markdown",
   "metadata": {
    "slideshow": {
     "slide_type": "slide"
    }
   },
   "source": [
    "# Pre-train using autoencoder\n",
    "\n",
    "We'll first perform an \"unsupervised learning\" using an auto-encoder: instead of predicting the target values, we'll train it to predict the input values."
   ]
  },
  {
   "cell_type": "code",
   "execution_count": 36,
   "metadata": {
    "collapsed": false
   },
   "outputs": [
    {
     "data": {
      "image/png": "[encoded data removed]",
      "text/plain": [
       "<matplotlib.figure.Figure at 0x1130d99d0>"
      ]
     },
     "metadata": {},
     "output_type": "display_data"
    },
    {
     "name": "stdout",
     "output_type": "stream",
     "text": [
      "(0.0050832790738903639, 0.0)\n"
     ]
    }
   ],
   "source": [
    "class AutoEncoderNetwork(ClassifierNetwork):\n",
    "    def train_unsupervised(self, dataset, fig=None, ax=None, epochs=1000):\n",
    "        \"\"\"Perform unsupervised learning from the data.\"\"\"\n",
    "        X = self.preprocessed(dataset.data)\n",
    "        T = X.copy()\n",
    "\n",
    "        errors=[]    \n",
    "        for epoch in range(epochs):\n",
    "            self.update_weights(T, X)\n",
    "            errors.append(self.errors_for(T, X))\n",
    "\n",
    "            if fig is not None and mod(epoch+1, 100) == 0:\n",
    "                aerrors=array(errors).T\n",
    "                self.plot_errors(ax, aerrors.T, epoch, epochs, ylabel='Errors', ylim=3.0)\n",
    "                ax.legend(['RMSE', '(Ignore this)'], loc='ba')\n",
    "                clear_output(wait=True)\n",
    "                display(fig)\n",
    "                ax.cla()\n",
    "\n",
    "        plt.close()    \n",
    "        return errors[-1]  \n",
    "\n",
    "ae_xor_net = AutoEncoderNetwork(num_nodes=[2, 2, 2])\n",
    "print(ae_xor_net.train_unsupervised(dataset_xor, *plt.subplots(figsize=(5,5)), epochs=500))"
   ]
  },
  {
   "cell_type": "markdown",
   "metadata": {
    "slideshow": {
     "slide_type": "subslide"
    }
   },
   "source": [
    "Then, we'd train the classifier network starting from the hidden weights that was learned."
   ]
  },
  {
   "cell_type": "code",
   "execution_count": 37,
   "metadata": {
    "collapsed": false,
    "slideshow": {
     "slide_type": "-"
    }
   },
   "outputs": [
    {
     "data": {
      "image/png": "[encoded data removed]",
      "text/plain": [
       "<matplotlib.figure.Figure at 0x112f27890>"
      ]
     },
     "metadata": {},
     "output_type": "display_data"
    }
   ],
   "source": [
    "ae_xor_net = AutoEncoderNetwork(num_nodes=[2, 2, 2])\n",
    "aeweight_xor_net = ClassifierNetworkWithOneHot(num_nodes=[2, 2, 2], activation_function=FunnyTanh())\n",
    "\n",
    "# Train 10 times and see how many times it gets stuck\n",
    "results=zeros((10,2))\n",
    "epochs=300\n",
    "for result in results:\n",
    "    Ws = base_xor_net.initial_weights()\n",
    "    base_xor_net.Ws = Ws\n",
    "    \n",
    "    ae_xor_net.Ws = ae_xor_net.initial_weights()\n",
    "    ae_xor_net.train_unsupervised(dataset_xor, epochs=100) # Only train for a short amount\n",
    "    Wh = ae_xor_net.Ws[0]\n",
    "\n",
    "    aeweight_xor_net.Ws = [W.copy() for W in Ws]\n",
    "    aeweight_xor_net.Ws[0] = Wh\n",
    "    \n",
    "    result[0]=base_xor_net.train_classifier(dataset_xor, epochs=epochs)[1]  \n",
    "    result[1]=aeweight_xor_net.train_classifier(dataset_xor, epochs=epochs)[1]\n",
    "\n",
    "plt.bar(arange(2), (results<1e-8).mean(axis=0) * 100.0)\n",
    "plt.xticks(arange(2)+.5, ['base', 'autoencoder'])\n",
    "plt.xlim([-.25, 2.25])\n",
    "plt.ylim([0, 100.0])\n",
    "plt.grid()\n",
    "plt.title('Pct successful training by %d epochs (out of %d trials)'% (epochs, results.shape[0]))\n",
    "None"
   ]
  },
  {
   "cell_type": "markdown",
   "metadata": {
    "slideshow": {
     "slide_type": "slide"
    }
   },
   "source": [
    "# Putting everything together\n",
    "\n",
    "Now we'll combine all of the techniques above. We'll also run it longer (1000 epochs) to see if "
   ]
  },
  {
   "cell_type": "code",
   "execution_count": 46,
   "metadata": {
    "collapsed": false
   },
   "outputs": [
    {
     "ename": "TypeError",
     "evalue": "super(type, obj): obj must be an instance or subtype of type",
     "output_type": "error",
     "traceback": [
      "\u001b[0;31m---------------------------------------------------------------------------\u001b[0m",
      "\u001b[0;31mTypeError\u001b[0m                                 Traceback (most recent call last)",
      "\u001b[0;32m<ipython-input-46-cb76aa3a249a>\u001b[0m in \u001b[0;36m<module>\u001b[0;34m()\u001b[0m\n\u001b[1;32m     21\u001b[0m     \u001b[0mimproved_xor_net\u001b[0m\u001b[0;34m.\u001b[0m\u001b[0mWs\u001b[0m \u001b[0;34m=\u001b[0m \u001b[0mimproved_xor_net\u001b[0m\u001b[0;34m.\u001b[0m\u001b[0minitial_weights\u001b[0m\u001b[0;34m(\u001b[0m\u001b[0;34m)\u001b[0m\u001b[0;34m\u001b[0m\u001b[0m\n\u001b[1;32m     22\u001b[0m     \u001b[0mresult\u001b[0m\u001b[0;34m[\u001b[0m\u001b[0;36m0\u001b[0m\u001b[0;34m]\u001b[0m\u001b[0;34m=\u001b[0m\u001b[0mbase_xor_net\u001b[0m\u001b[0;34m.\u001b[0m\u001b[0mtrain_classifier\u001b[0m\u001b[0;34m(\u001b[0m\u001b[0mdataset_xor\u001b[0m\u001b[0;34m,\u001b[0m \u001b[0mepochs\u001b[0m\u001b[0;34m=\u001b[0m\u001b[0mepochs\u001b[0m\u001b[0;34m)\u001b[0m\u001b[0;34m[\u001b[0m\u001b[0;36m1\u001b[0m\u001b[0;34m]\u001b[0m\u001b[0;34m\u001b[0m\u001b[0m\n\u001b[0;32m---> 23\u001b[0;31m     \u001b[0mresult\u001b[0m\u001b[0;34m[\u001b[0m\u001b[0;36m1\u001b[0m\u001b[0;34m]\u001b[0m\u001b[0;34m=\u001b[0m\u001b[0mimproved_xor_net\u001b[0m\u001b[0;34m.\u001b[0m\u001b[0mtrain_classifier\u001b[0m\u001b[0;34m(\u001b[0m\u001b[0mdataset_xor\u001b[0m\u001b[0;34m,\u001b[0m \u001b[0mepochs\u001b[0m\u001b[0;34m=\u001b[0m\u001b[0mepochs\u001b[0m\u001b[0;34m)\u001b[0m\u001b[0;34m[\u001b[0m\u001b[0;36m1\u001b[0m\u001b[0;34m]\u001b[0m\u001b[0;34m\u001b[0m\u001b[0m\n\u001b[0m\u001b[1;32m     24\u001b[0m \u001b[0;34m\u001b[0m\u001b[0m\n\u001b[1;32m     25\u001b[0m \u001b[0mplt\u001b[0m\u001b[0;34m.\u001b[0m\u001b[0mbar\u001b[0m\u001b[0;34m(\u001b[0m\u001b[0marange\u001b[0m\u001b[0;34m(\u001b[0m\u001b[0;36m2\u001b[0m\u001b[0;34m)\u001b[0m\u001b[0;34m,\u001b[0m \u001b[0;34m(\u001b[0m\u001b[0mresults\u001b[0m\u001b[0;34m<\u001b[0m\u001b[0;36m1e-8\u001b[0m\u001b[0;34m)\u001b[0m\u001b[0;34m.\u001b[0m\u001b[0mmean\u001b[0m\u001b[0;34m(\u001b[0m\u001b[0maxis\u001b[0m\u001b[0;34m=\u001b[0m\u001b[0;36m0\u001b[0m\u001b[0;34m)\u001b[0m \u001b[0;34m*\u001b[0m \u001b[0;36m100.0\u001b[0m\u001b[0;34m)\u001b[0m\u001b[0;34m\u001b[0m\u001b[0m\n",
      "\u001b[0;32m<ipython-input-4-07d012130648>\u001b[0m in \u001b[0;36mtrain_classifier\u001b[0;34m(self, dataset, fig, ax, epochs)\u001b[0m\n\u001b[1;32m     17\u001b[0m         \u001b[0;34m\"\"\"Perform the classification task for the data using the given network, without using train-test split.\"\"\"\u001b[0m\u001b[0;34m\u001b[0m\u001b[0m\n\u001b[1;32m     18\u001b[0m         \u001b[0mX\u001b[0m\u001b[0;34m,\u001b[0m \u001b[0mT\u001b[0m \u001b[0;34m=\u001b[0m \u001b[0mdataset\u001b[0m\u001b[0;34m.\u001b[0m\u001b[0mdata\u001b[0m\u001b[0;34m,\u001b[0m \u001b[0mdataset\u001b[0m\u001b[0;34m.\u001b[0m\u001b[0mtarget\u001b[0m\u001b[0;34m\u001b[0m\u001b[0m\n\u001b[0;32m---> 19\u001b[0;31m         \u001b[0m_X\u001b[0m\u001b[0;34m,\u001b[0m \u001b[0m_T\u001b[0m \u001b[0;34m=\u001b[0m \u001b[0mself\u001b[0m\u001b[0;34m.\u001b[0m\u001b[0mpreprocessed\u001b[0m\u001b[0;34m(\u001b[0m\u001b[0mX\u001b[0m\u001b[0;34m,\u001b[0m \u001b[0mT\u001b[0m\u001b[0;34m)\u001b[0m\u001b[0;34m\u001b[0m\u001b[0m\n\u001b[0m\u001b[1;32m     20\u001b[0m \u001b[0;34m\u001b[0m\u001b[0m\n\u001b[1;32m     21\u001b[0m         \u001b[0merrors\u001b[0m\u001b[0;34m=\u001b[0m\u001b[0;34m[\u001b[0m\u001b[0;34m]\u001b[0m\u001b[0;34m\u001b[0m\u001b[0m\n",
      "\u001b[0;32m<ipython-input-4-07d012130648>\u001b[0m in \u001b[0;36mpreprocessed\u001b[0;34m(self, X, T)\u001b[0m\n\u001b[1;32m     54\u001b[0m                 \u001b[0mself\u001b[0m\u001b[0;34m.\u001b[0m\u001b[0mencoder\u001b[0m \u001b[0;34m=\u001b[0m \u001b[0mOneHotEncoder\u001b[0m\u001b[0;34m(\u001b[0m\u001b[0msparse\u001b[0m\u001b[0;34m=\u001b[0m\u001b[0mFalse\u001b[0m\u001b[0;34m)\u001b[0m\u001b[0;34m.\u001b[0m\u001b[0mfit\u001b[0m\u001b[0;34m(\u001b[0m\u001b[0mT\u001b[0m\u001b[0;34m[\u001b[0m\u001b[0;34m:\u001b[0m\u001b[0;34m,\u001b[0m\u001b[0mnewaxis\u001b[0m\u001b[0;34m]\u001b[0m\u001b[0;34m)\u001b[0m\u001b[0;34m\u001b[0m\u001b[0m\n\u001b[1;32m     55\u001b[0m             \u001b[0mT\u001b[0m \u001b[0;34m=\u001b[0m \u001b[0mself\u001b[0m\u001b[0;34m.\u001b[0m\u001b[0mencoder\u001b[0m\u001b[0;34m.\u001b[0m\u001b[0mtransform\u001b[0m\u001b[0;34m(\u001b[0m\u001b[0mT\u001b[0m\u001b[0;34m[\u001b[0m\u001b[0;34m:\u001b[0m\u001b[0;34m,\u001b[0m\u001b[0mnewaxis\u001b[0m\u001b[0;34m]\u001b[0m\u001b[0;34m)\u001b[0m\u001b[0;34m*\u001b[0m\u001b[0;36m2\u001b[0m \u001b[0;34m-\u001b[0m \u001b[0;36m1\u001b[0m\u001b[0;34m\u001b[0m\u001b[0m\n\u001b[0;32m---> 56\u001b[0;31m         \u001b[0;32mreturn\u001b[0m \u001b[0msuper\u001b[0m\u001b[0;34m(\u001b[0m\u001b[0mClassifierNetworkWithOneHot\u001b[0m\u001b[0;34m,\u001b[0m \u001b[0mself\u001b[0m\u001b[0;34m)\u001b[0m\u001b[0;34m.\u001b[0m\u001b[0mpreprocessed\u001b[0m\u001b[0;34m(\u001b[0m\u001b[0mX\u001b[0m\u001b[0;34m,\u001b[0m \u001b[0mT\u001b[0m\u001b[0;34m)\u001b[0m\u001b[0;34m\u001b[0m\u001b[0m\n\u001b[0m\u001b[1;32m     57\u001b[0m \u001b[0;34m\u001b[0m\u001b[0m\n\u001b[1;32m     58\u001b[0m \u001b[0;34m\u001b[0m\u001b[0m\n",
      "\u001b[0;31mTypeError\u001b[0m: super(type, obj): obj must be an instance or subtype of type"
     ]
    }
   ],
   "source": [
    "class ClassifierNetwork2(ClassifierNetworkWithMomentum):\n",
    "    def __init__(self, *args, **kwargs):\n",
    "        if not kwargs.has_key('activation_function'):\n",
    "            kwargs['activation_function'] = FunnyTanh()\n",
    "        super(ClassifierNetwork2, self).__init__(*args, **kwargs)\n",
    "    \n",
    "    def initial_weights(self):\n",
    "        Ws0 = [standard_normal((n + 1, m)) / sqrt(n + 1) for n, m in zip(self.num_nodes[:-1], self.num_nodes[1:])]\n",
    "        ae_network = AutoEncoderNetwork(num_nodes=[self.num_nodes[0], self.num_nodes[1], self.num_nodes[0]],Ws = Ws0)\n",
    "        ae_network.train_unsupervised(dataset_xor, epochs=100) # Only train for a short amount\n",
    "        Ws0[0] = ae_network.Ws[0]\n",
    "        return Ws0\n",
    "\n",
    "improved_xor_net = ClassifierNetwork2(num_nodes=[2, 2, 2], eta=0.05)\n",
    "\n",
    "# Train 10 times and see how many times it gets stuck\n",
    "results=zeros((10,2))\n",
    "epochs=600\n",
    "for result in results:\n",
    "    base_xor_net.Ws = base_xor_net.initial_weights()\n",
    "    improved_xor_net.Ws = improved_xor_net.initial_weights()\n",
    "    result[0]=base_xor_net.train_classifier(dataset_xor, epochs=epochs)[1]  \n",
    "    result[1]=improved_xor_net.train_classifier(dataset_xor, epochs=epochs)[1]\n",
    "\n",
    "plt.bar(arange(2), (results<1e-8).mean(axis=0) * 100.0)\n",
    "plt.xticks(arange(2)+.5, ['base', 'improved'])\n",
    "plt.xlim([-.25, 2.25])\n",
    "plt.ylim([0, 100.0])\n",
    "plt.grid()\n",
    "plt.title('Pct successful training by %d epochs (out of %d trials)'% (epochs, results.shape[0]))\n",
    "None"
   ]
  },
  {
   "cell_type": "markdown",
   "metadata": {
    "slideshow": {
     "slide_type": "slide"
    }
   },
   "source": [
    "#References\n",
    "\n",
    "<a name=\"cite-LeCun:2012vf\"/><sup>[^](#ref-1) </sup>LeCun, Yann A and Bottou, Leon and Orr, Genevieve B and Muller, Klaus-Robert. 2012. _Efficient backprop_.\n",
    "\n"
   ]
  }
 ],
 "metadata": {
  "celltoolbar": "Slideshow",
  "kernelspec": {
   "display_name": "Python 2",
   "language": "python",
   "name": "python2"
  },
  "language_info": {
   "codemirror_mode": {
    "name": "ipython",
    "version": 2
   },
   "file_extension": ".py",
   "mimetype": "text/x-python",
   "name": "python",
   "nbconvert_exporter": "python",
   "pygments_lexer": "ipython2",
   "version": "2.7.9"
  }
 },
 "nbformat": 4,
 "nbformat_minor": 0
}
